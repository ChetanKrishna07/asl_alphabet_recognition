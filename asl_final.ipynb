{
  "cells": [
    {
      "cell_type": "code",
      "execution_count": 1,
      "id": "383ede33",
      "metadata": {
        "id": "383ede33"
      },
      "outputs": [],
      "source": [
        "import tensorflow as tf\n",
        "import numpy as np\n",
        "import pandas as pd\n",
        "import matplotlib.pyplot as plt\n",
        "import cv2"
      ]
    },
    {
      "cell_type": "code",
      "source": [
        "from google.colab import drive\n",
        "drive.mount('/content/drive')"
      ],
      "metadata": {
        "colab": {
          "base_uri": "https://localhost:8080/"
        },
        "id": "_MVKXMoJw0Vm",
        "outputId": "078e364b-f77e-4162-de6f-40cc4511df7c"
      },
      "id": "_MVKXMoJw0Vm",
      "execution_count": 2,
      "outputs": [
        {
          "output_type": "stream",
          "name": "stdout",
          "text": [
            "Mounted at /content/drive\n"
          ]
        }
      ]
    },
    {
      "cell_type": "code",
      "execution_count": 3,
      "id": "a2f215f7",
      "metadata": {
        "colab": {
          "base_uri": "https://localhost:8080/",
          "height": 299
        },
        "id": "a2f215f7",
        "outputId": "74cd4409-d392-4c20-fcd6-f5713d26c7fa"
      },
      "outputs": [
        {
          "output_type": "execute_result",
          "data": {
            "text/plain": [
              "   label  pixel1  pixel2  pixel3  pixel4  pixel5  pixel6  pixel7  pixel8  \\\n",
              "0      3     107     118     127     134     139     143     146     150   \n",
              "1      6     155     157     156     156     156     157     156     158   \n",
              "2      2     187     188     188     187     187     186     187     188   \n",
              "3      2     211     211     212     212     211     210     211     210   \n",
              "4     13     164     167     170     172     176     179     180     184   \n",
              "\n",
              "   pixel9  ...  pixel775  pixel776  pixel777  pixel778  pixel779  pixel780  \\\n",
              "0     153  ...       207       207       207       207       206       206   \n",
              "1     158  ...        69       149       128        87        94       163   \n",
              "2     187  ...       202       201       200       199       198       199   \n",
              "3     210  ...       235       234       233       231       230       226   \n",
              "4     185  ...        92       105       105       108       133       163   \n",
              "\n",
              "   pixel781  pixel782  pixel783  pixel784  \n",
              "0       206       204       203       202  \n",
              "1       175       103       135       149  \n",
              "2       198       195       194       195  \n",
              "3       225       222       229       163  \n",
              "4       157       163       164       179  \n",
              "\n",
              "[5 rows x 785 columns]"
            ],
            "text/html": [
              "\n",
              "  <div id=\"df-d621952d-6d69-4cc0-95e2-0d9ed20da407\">\n",
              "    <div class=\"colab-df-container\">\n",
              "      <div>\n",
              "<style scoped>\n",
              "    .dataframe tbody tr th:only-of-type {\n",
              "        vertical-align: middle;\n",
              "    }\n",
              "\n",
              "    .dataframe tbody tr th {\n",
              "        vertical-align: top;\n",
              "    }\n",
              "\n",
              "    .dataframe thead th {\n",
              "        text-align: right;\n",
              "    }\n",
              "</style>\n",
              "<table border=\"1\" class=\"dataframe\">\n",
              "  <thead>\n",
              "    <tr style=\"text-align: right;\">\n",
              "      <th></th>\n",
              "      <th>label</th>\n",
              "      <th>pixel1</th>\n",
              "      <th>pixel2</th>\n",
              "      <th>pixel3</th>\n",
              "      <th>pixel4</th>\n",
              "      <th>pixel5</th>\n",
              "      <th>pixel6</th>\n",
              "      <th>pixel7</th>\n",
              "      <th>pixel8</th>\n",
              "      <th>pixel9</th>\n",
              "      <th>...</th>\n",
              "      <th>pixel775</th>\n",
              "      <th>pixel776</th>\n",
              "      <th>pixel777</th>\n",
              "      <th>pixel778</th>\n",
              "      <th>pixel779</th>\n",
              "      <th>pixel780</th>\n",
              "      <th>pixel781</th>\n",
              "      <th>pixel782</th>\n",
              "      <th>pixel783</th>\n",
              "      <th>pixel784</th>\n",
              "    </tr>\n",
              "  </thead>\n",
              "  <tbody>\n",
              "    <tr>\n",
              "      <th>0</th>\n",
              "      <td>3</td>\n",
              "      <td>107</td>\n",
              "      <td>118</td>\n",
              "      <td>127</td>\n",
              "      <td>134</td>\n",
              "      <td>139</td>\n",
              "      <td>143</td>\n",
              "      <td>146</td>\n",
              "      <td>150</td>\n",
              "      <td>153</td>\n",
              "      <td>...</td>\n",
              "      <td>207</td>\n",
              "      <td>207</td>\n",
              "      <td>207</td>\n",
              "      <td>207</td>\n",
              "      <td>206</td>\n",
              "      <td>206</td>\n",
              "      <td>206</td>\n",
              "      <td>204</td>\n",
              "      <td>203</td>\n",
              "      <td>202</td>\n",
              "    </tr>\n",
              "    <tr>\n",
              "      <th>1</th>\n",
              "      <td>6</td>\n",
              "      <td>155</td>\n",
              "      <td>157</td>\n",
              "      <td>156</td>\n",
              "      <td>156</td>\n",
              "      <td>156</td>\n",
              "      <td>157</td>\n",
              "      <td>156</td>\n",
              "      <td>158</td>\n",
              "      <td>158</td>\n",
              "      <td>...</td>\n",
              "      <td>69</td>\n",
              "      <td>149</td>\n",
              "      <td>128</td>\n",
              "      <td>87</td>\n",
              "      <td>94</td>\n",
              "      <td>163</td>\n",
              "      <td>175</td>\n",
              "      <td>103</td>\n",
              "      <td>135</td>\n",
              "      <td>149</td>\n",
              "    </tr>\n",
              "    <tr>\n",
              "      <th>2</th>\n",
              "      <td>2</td>\n",
              "      <td>187</td>\n",
              "      <td>188</td>\n",
              "      <td>188</td>\n",
              "      <td>187</td>\n",
              "      <td>187</td>\n",
              "      <td>186</td>\n",
              "      <td>187</td>\n",
              "      <td>188</td>\n",
              "      <td>187</td>\n",
              "      <td>...</td>\n",
              "      <td>202</td>\n",
              "      <td>201</td>\n",
              "      <td>200</td>\n",
              "      <td>199</td>\n",
              "      <td>198</td>\n",
              "      <td>199</td>\n",
              "      <td>198</td>\n",
              "      <td>195</td>\n",
              "      <td>194</td>\n",
              "      <td>195</td>\n",
              "    </tr>\n",
              "    <tr>\n",
              "      <th>3</th>\n",
              "      <td>2</td>\n",
              "      <td>211</td>\n",
              "      <td>211</td>\n",
              "      <td>212</td>\n",
              "      <td>212</td>\n",
              "      <td>211</td>\n",
              "      <td>210</td>\n",
              "      <td>211</td>\n",
              "      <td>210</td>\n",
              "      <td>210</td>\n",
              "      <td>...</td>\n",
              "      <td>235</td>\n",
              "      <td>234</td>\n",
              "      <td>233</td>\n",
              "      <td>231</td>\n",
              "      <td>230</td>\n",
              "      <td>226</td>\n",
              "      <td>225</td>\n",
              "      <td>222</td>\n",
              "      <td>229</td>\n",
              "      <td>163</td>\n",
              "    </tr>\n",
              "    <tr>\n",
              "      <th>4</th>\n",
              "      <td>13</td>\n",
              "      <td>164</td>\n",
              "      <td>167</td>\n",
              "      <td>170</td>\n",
              "      <td>172</td>\n",
              "      <td>176</td>\n",
              "      <td>179</td>\n",
              "      <td>180</td>\n",
              "      <td>184</td>\n",
              "      <td>185</td>\n",
              "      <td>...</td>\n",
              "      <td>92</td>\n",
              "      <td>105</td>\n",
              "      <td>105</td>\n",
              "      <td>108</td>\n",
              "      <td>133</td>\n",
              "      <td>163</td>\n",
              "      <td>157</td>\n",
              "      <td>163</td>\n",
              "      <td>164</td>\n",
              "      <td>179</td>\n",
              "    </tr>\n",
              "  </tbody>\n",
              "</table>\n",
              "<p>5 rows × 785 columns</p>\n",
              "</div>\n",
              "      <button class=\"colab-df-convert\" onclick=\"convertToInteractive('df-d621952d-6d69-4cc0-95e2-0d9ed20da407')\"\n",
              "              title=\"Convert this dataframe to an interactive table.\"\n",
              "              style=\"display:none;\">\n",
              "        \n",
              "  <svg xmlns=\"http://www.w3.org/2000/svg\" height=\"24px\"viewBox=\"0 0 24 24\"\n",
              "       width=\"24px\">\n",
              "    <path d=\"M0 0h24v24H0V0z\" fill=\"none\"/>\n",
              "    <path d=\"M18.56 5.44l.94 2.06.94-2.06 2.06-.94-2.06-.94-.94-2.06-.94 2.06-2.06.94zm-11 1L8.5 8.5l.94-2.06 2.06-.94-2.06-.94L8.5 2.5l-.94 2.06-2.06.94zm10 10l.94 2.06.94-2.06 2.06-.94-2.06-.94-.94-2.06-.94 2.06-2.06.94z\"/><path d=\"M17.41 7.96l-1.37-1.37c-.4-.4-.92-.59-1.43-.59-.52 0-1.04.2-1.43.59L10.3 9.45l-7.72 7.72c-.78.78-.78 2.05 0 2.83L4 21.41c.39.39.9.59 1.41.59.51 0 1.02-.2 1.41-.59l7.78-7.78 2.81-2.81c.8-.78.8-2.07 0-2.86zM5.41 20L4 18.59l7.72-7.72 1.47 1.35L5.41 20z\"/>\n",
              "  </svg>\n",
              "      </button>\n",
              "      \n",
              "  <style>\n",
              "    .colab-df-container {\n",
              "      display:flex;\n",
              "      flex-wrap:wrap;\n",
              "      gap: 12px;\n",
              "    }\n",
              "\n",
              "    .colab-df-convert {\n",
              "      background-color: #E8F0FE;\n",
              "      border: none;\n",
              "      border-radius: 50%;\n",
              "      cursor: pointer;\n",
              "      display: none;\n",
              "      fill: #1967D2;\n",
              "      height: 32px;\n",
              "      padding: 0 0 0 0;\n",
              "      width: 32px;\n",
              "    }\n",
              "\n",
              "    .colab-df-convert:hover {\n",
              "      background-color: #E2EBFA;\n",
              "      box-shadow: 0px 1px 2px rgba(60, 64, 67, 0.3), 0px 1px 3px 1px rgba(60, 64, 67, 0.15);\n",
              "      fill: #174EA6;\n",
              "    }\n",
              "\n",
              "    [theme=dark] .colab-df-convert {\n",
              "      background-color: #3B4455;\n",
              "      fill: #D2E3FC;\n",
              "    }\n",
              "\n",
              "    [theme=dark] .colab-df-convert:hover {\n",
              "      background-color: #434B5C;\n",
              "      box-shadow: 0px 1px 3px 1px rgba(0, 0, 0, 0.15);\n",
              "      filter: drop-shadow(0px 1px 2px rgba(0, 0, 0, 0.3));\n",
              "      fill: #FFFFFF;\n",
              "    }\n",
              "  </style>\n",
              "\n",
              "      <script>\n",
              "        const buttonEl =\n",
              "          document.querySelector('#df-d621952d-6d69-4cc0-95e2-0d9ed20da407 button.colab-df-convert');\n",
              "        buttonEl.style.display =\n",
              "          google.colab.kernel.accessAllowed ? 'block' : 'none';\n",
              "\n",
              "        async function convertToInteractive(key) {\n",
              "          const element = document.querySelector('#df-d621952d-6d69-4cc0-95e2-0d9ed20da407');\n",
              "          const dataTable =\n",
              "            await google.colab.kernel.invokeFunction('convertToInteractive',\n",
              "                                                     [key], {});\n",
              "          if (!dataTable) return;\n",
              "\n",
              "          const docLinkHtml = 'Like what you see? Visit the ' +\n",
              "            '<a target=\"_blank\" href=https://colab.research.google.com/notebooks/data_table.ipynb>data table notebook</a>'\n",
              "            + ' to learn more about interactive tables.';\n",
              "          element.innerHTML = '';\n",
              "          dataTable['output_type'] = 'display_data';\n",
              "          await google.colab.output.renderOutput(dataTable, element);\n",
              "          const docLink = document.createElement('div');\n",
              "          docLink.innerHTML = docLinkHtml;\n",
              "          element.appendChild(docLink);\n",
              "        }\n",
              "      </script>\n",
              "    </div>\n",
              "  </div>\n",
              "  "
            ]
          },
          "metadata": {},
          "execution_count": 3
        }
      ],
      "source": [
        "train = pd.read_csv('/content/drive/MyDrive/sign MNIST  Dataset/sign_mnist_train.csv')\n",
        "train.head()"
      ]
    },
    {
      "cell_type": "code",
      "execution_count": 4,
      "id": "cb7f4b76",
      "metadata": {
        "id": "cb7f4b76"
      },
      "outputs": [],
      "source": [
        "X_train = train.drop('label', axis=1)\n",
        "y_train = train['label']"
      ]
    },
    {
      "cell_type": "code",
      "execution_count": 5,
      "id": "2a42fcc8",
      "metadata": {
        "colab": {
          "base_uri": "https://localhost:8080/",
          "height": 299
        },
        "id": "2a42fcc8",
        "outputId": "a8fcc6f7-4815-47a9-b6ec-52f8b6744292"
      },
      "outputs": [
        {
          "output_type": "execute_result",
          "data": {
            "text/plain": [
              "   pixel1  pixel2  pixel3  pixel4  pixel5  pixel6  pixel7  pixel8  pixel9  \\\n",
              "0     107     118     127     134     139     143     146     150     153   \n",
              "1     155     157     156     156     156     157     156     158     158   \n",
              "2     187     188     188     187     187     186     187     188     187   \n",
              "3     211     211     212     212     211     210     211     210     210   \n",
              "4     164     167     170     172     176     179     180     184     185   \n",
              "\n",
              "   pixel10  ...  pixel775  pixel776  pixel777  pixel778  pixel779  pixel780  \\\n",
              "0      156  ...       207       207       207       207       206       206   \n",
              "1      157  ...        69       149       128        87        94       163   \n",
              "2      186  ...       202       201       200       199       198       199   \n",
              "3      211  ...       235       234       233       231       230       226   \n",
              "4      186  ...        92       105       105       108       133       163   \n",
              "\n",
              "   pixel781  pixel782  pixel783  pixel784  \n",
              "0       206       204       203       202  \n",
              "1       175       103       135       149  \n",
              "2       198       195       194       195  \n",
              "3       225       222       229       163  \n",
              "4       157       163       164       179  \n",
              "\n",
              "[5 rows x 784 columns]"
            ],
            "text/html": [
              "\n",
              "  <div id=\"df-87f6240c-83b7-4174-ac2a-f3bdbda48e82\">\n",
              "    <div class=\"colab-df-container\">\n",
              "      <div>\n",
              "<style scoped>\n",
              "    .dataframe tbody tr th:only-of-type {\n",
              "        vertical-align: middle;\n",
              "    }\n",
              "\n",
              "    .dataframe tbody tr th {\n",
              "        vertical-align: top;\n",
              "    }\n",
              "\n",
              "    .dataframe thead th {\n",
              "        text-align: right;\n",
              "    }\n",
              "</style>\n",
              "<table border=\"1\" class=\"dataframe\">\n",
              "  <thead>\n",
              "    <tr style=\"text-align: right;\">\n",
              "      <th></th>\n",
              "      <th>pixel1</th>\n",
              "      <th>pixel2</th>\n",
              "      <th>pixel3</th>\n",
              "      <th>pixel4</th>\n",
              "      <th>pixel5</th>\n",
              "      <th>pixel6</th>\n",
              "      <th>pixel7</th>\n",
              "      <th>pixel8</th>\n",
              "      <th>pixel9</th>\n",
              "      <th>pixel10</th>\n",
              "      <th>...</th>\n",
              "      <th>pixel775</th>\n",
              "      <th>pixel776</th>\n",
              "      <th>pixel777</th>\n",
              "      <th>pixel778</th>\n",
              "      <th>pixel779</th>\n",
              "      <th>pixel780</th>\n",
              "      <th>pixel781</th>\n",
              "      <th>pixel782</th>\n",
              "      <th>pixel783</th>\n",
              "      <th>pixel784</th>\n",
              "    </tr>\n",
              "  </thead>\n",
              "  <tbody>\n",
              "    <tr>\n",
              "      <th>0</th>\n",
              "      <td>107</td>\n",
              "      <td>118</td>\n",
              "      <td>127</td>\n",
              "      <td>134</td>\n",
              "      <td>139</td>\n",
              "      <td>143</td>\n",
              "      <td>146</td>\n",
              "      <td>150</td>\n",
              "      <td>153</td>\n",
              "      <td>156</td>\n",
              "      <td>...</td>\n",
              "      <td>207</td>\n",
              "      <td>207</td>\n",
              "      <td>207</td>\n",
              "      <td>207</td>\n",
              "      <td>206</td>\n",
              "      <td>206</td>\n",
              "      <td>206</td>\n",
              "      <td>204</td>\n",
              "      <td>203</td>\n",
              "      <td>202</td>\n",
              "    </tr>\n",
              "    <tr>\n",
              "      <th>1</th>\n",
              "      <td>155</td>\n",
              "      <td>157</td>\n",
              "      <td>156</td>\n",
              "      <td>156</td>\n",
              "      <td>156</td>\n",
              "      <td>157</td>\n",
              "      <td>156</td>\n",
              "      <td>158</td>\n",
              "      <td>158</td>\n",
              "      <td>157</td>\n",
              "      <td>...</td>\n",
              "      <td>69</td>\n",
              "      <td>149</td>\n",
              "      <td>128</td>\n",
              "      <td>87</td>\n",
              "      <td>94</td>\n",
              "      <td>163</td>\n",
              "      <td>175</td>\n",
              "      <td>103</td>\n",
              "      <td>135</td>\n",
              "      <td>149</td>\n",
              "    </tr>\n",
              "    <tr>\n",
              "      <th>2</th>\n",
              "      <td>187</td>\n",
              "      <td>188</td>\n",
              "      <td>188</td>\n",
              "      <td>187</td>\n",
              "      <td>187</td>\n",
              "      <td>186</td>\n",
              "      <td>187</td>\n",
              "      <td>188</td>\n",
              "      <td>187</td>\n",
              "      <td>186</td>\n",
              "      <td>...</td>\n",
              "      <td>202</td>\n",
              "      <td>201</td>\n",
              "      <td>200</td>\n",
              "      <td>199</td>\n",
              "      <td>198</td>\n",
              "      <td>199</td>\n",
              "      <td>198</td>\n",
              "      <td>195</td>\n",
              "      <td>194</td>\n",
              "      <td>195</td>\n",
              "    </tr>\n",
              "    <tr>\n",
              "      <th>3</th>\n",
              "      <td>211</td>\n",
              "      <td>211</td>\n",
              "      <td>212</td>\n",
              "      <td>212</td>\n",
              "      <td>211</td>\n",
              "      <td>210</td>\n",
              "      <td>211</td>\n",
              "      <td>210</td>\n",
              "      <td>210</td>\n",
              "      <td>211</td>\n",
              "      <td>...</td>\n",
              "      <td>235</td>\n",
              "      <td>234</td>\n",
              "      <td>233</td>\n",
              "      <td>231</td>\n",
              "      <td>230</td>\n",
              "      <td>226</td>\n",
              "      <td>225</td>\n",
              "      <td>222</td>\n",
              "      <td>229</td>\n",
              "      <td>163</td>\n",
              "    </tr>\n",
              "    <tr>\n",
              "      <th>4</th>\n",
              "      <td>164</td>\n",
              "      <td>167</td>\n",
              "      <td>170</td>\n",
              "      <td>172</td>\n",
              "      <td>176</td>\n",
              "      <td>179</td>\n",
              "      <td>180</td>\n",
              "      <td>184</td>\n",
              "      <td>185</td>\n",
              "      <td>186</td>\n",
              "      <td>...</td>\n",
              "      <td>92</td>\n",
              "      <td>105</td>\n",
              "      <td>105</td>\n",
              "      <td>108</td>\n",
              "      <td>133</td>\n",
              "      <td>163</td>\n",
              "      <td>157</td>\n",
              "      <td>163</td>\n",
              "      <td>164</td>\n",
              "      <td>179</td>\n",
              "    </tr>\n",
              "  </tbody>\n",
              "</table>\n",
              "<p>5 rows × 784 columns</p>\n",
              "</div>\n",
              "      <button class=\"colab-df-convert\" onclick=\"convertToInteractive('df-87f6240c-83b7-4174-ac2a-f3bdbda48e82')\"\n",
              "              title=\"Convert this dataframe to an interactive table.\"\n",
              "              style=\"display:none;\">\n",
              "        \n",
              "  <svg xmlns=\"http://www.w3.org/2000/svg\" height=\"24px\"viewBox=\"0 0 24 24\"\n",
              "       width=\"24px\">\n",
              "    <path d=\"M0 0h24v24H0V0z\" fill=\"none\"/>\n",
              "    <path d=\"M18.56 5.44l.94 2.06.94-2.06 2.06-.94-2.06-.94-.94-2.06-.94 2.06-2.06.94zm-11 1L8.5 8.5l.94-2.06 2.06-.94-2.06-.94L8.5 2.5l-.94 2.06-2.06.94zm10 10l.94 2.06.94-2.06 2.06-.94-2.06-.94-.94-2.06-.94 2.06-2.06.94z\"/><path d=\"M17.41 7.96l-1.37-1.37c-.4-.4-.92-.59-1.43-.59-.52 0-1.04.2-1.43.59L10.3 9.45l-7.72 7.72c-.78.78-.78 2.05 0 2.83L4 21.41c.39.39.9.59 1.41.59.51 0 1.02-.2 1.41-.59l7.78-7.78 2.81-2.81c.8-.78.8-2.07 0-2.86zM5.41 20L4 18.59l7.72-7.72 1.47 1.35L5.41 20z\"/>\n",
              "  </svg>\n",
              "      </button>\n",
              "      \n",
              "  <style>\n",
              "    .colab-df-container {\n",
              "      display:flex;\n",
              "      flex-wrap:wrap;\n",
              "      gap: 12px;\n",
              "    }\n",
              "\n",
              "    .colab-df-convert {\n",
              "      background-color: #E8F0FE;\n",
              "      border: none;\n",
              "      border-radius: 50%;\n",
              "      cursor: pointer;\n",
              "      display: none;\n",
              "      fill: #1967D2;\n",
              "      height: 32px;\n",
              "      padding: 0 0 0 0;\n",
              "      width: 32px;\n",
              "    }\n",
              "\n",
              "    .colab-df-convert:hover {\n",
              "      background-color: #E2EBFA;\n",
              "      box-shadow: 0px 1px 2px rgba(60, 64, 67, 0.3), 0px 1px 3px 1px rgba(60, 64, 67, 0.15);\n",
              "      fill: #174EA6;\n",
              "    }\n",
              "\n",
              "    [theme=dark] .colab-df-convert {\n",
              "      background-color: #3B4455;\n",
              "      fill: #D2E3FC;\n",
              "    }\n",
              "\n",
              "    [theme=dark] .colab-df-convert:hover {\n",
              "      background-color: #434B5C;\n",
              "      box-shadow: 0px 1px 3px 1px rgba(0, 0, 0, 0.15);\n",
              "      filter: drop-shadow(0px 1px 2px rgba(0, 0, 0, 0.3));\n",
              "      fill: #FFFFFF;\n",
              "    }\n",
              "  </style>\n",
              "\n",
              "      <script>\n",
              "        const buttonEl =\n",
              "          document.querySelector('#df-87f6240c-83b7-4174-ac2a-f3bdbda48e82 button.colab-df-convert');\n",
              "        buttonEl.style.display =\n",
              "          google.colab.kernel.accessAllowed ? 'block' : 'none';\n",
              "\n",
              "        async function convertToInteractive(key) {\n",
              "          const element = document.querySelector('#df-87f6240c-83b7-4174-ac2a-f3bdbda48e82');\n",
              "          const dataTable =\n",
              "            await google.colab.kernel.invokeFunction('convertToInteractive',\n",
              "                                                     [key], {});\n",
              "          if (!dataTable) return;\n",
              "\n",
              "          const docLinkHtml = 'Like what you see? Visit the ' +\n",
              "            '<a target=\"_blank\" href=https://colab.research.google.com/notebooks/data_table.ipynb>data table notebook</a>'\n",
              "            + ' to learn more about interactive tables.';\n",
              "          element.innerHTML = '';\n",
              "          dataTable['output_type'] = 'display_data';\n",
              "          await google.colab.output.renderOutput(dataTable, element);\n",
              "          const docLink = document.createElement('div');\n",
              "          docLink.innerHTML = docLinkHtml;\n",
              "          element.appendChild(docLink);\n",
              "        }\n",
              "      </script>\n",
              "    </div>\n",
              "  </div>\n",
              "  "
            ]
          },
          "metadata": {},
          "execution_count": 5
        }
      ],
      "source": [
        "X_train.head()"
      ]
    },
    {
      "cell_type": "code",
      "execution_count": 6,
      "id": "685962e5",
      "metadata": {
        "colab": {
          "base_uri": "https://localhost:8080/"
        },
        "id": "685962e5",
        "outputId": "4601b4d1-1cd7-4d5f-e583-f01238cfe82b"
      },
      "outputs": [
        {
          "output_type": "execute_result",
          "data": {
            "text/plain": [
              "0     3\n",
              "1     6\n",
              "2     2\n",
              "3     2\n",
              "4    13\n",
              "Name: label, dtype: int64"
            ]
          },
          "metadata": {},
          "execution_count": 6
        }
      ],
      "source": [
        "y_train.head()"
      ]
    },
    {
      "cell_type": "code",
      "execution_count": 7,
      "id": "322a223a",
      "metadata": {
        "id": "322a223a"
      },
      "outputs": [],
      "source": [
        "target_values = np.sort(y_train.unique())"
      ]
    },
    {
      "cell_type": "code",
      "execution_count": 8,
      "id": "591e5058",
      "metadata": {
        "scrolled": true,
        "colab": {
          "base_uri": "https://localhost:8080/",
          "height": 282
        },
        "id": "591e5058",
        "outputId": "17089607-98a3-42a7-b6d3-3c363ef2e4b0"
      },
      "outputs": [
        {
          "output_type": "execute_result",
          "data": {
            "text/plain": [
              "<BarContainer object of 24 artists>"
            ]
          },
          "metadata": {},
          "execution_count": 8
        },
        {
          "output_type": "display_data",
          "data": {
            "text/plain": [
              "<Figure size 432x288 with 1 Axes>"
            ],
            "image/png": "[encoded data removed]"
          },
          "metadata": {
            "needs_background": "light"
          }
        }
      ],
      "source": [
        "count_data = pd.DataFrame(train.groupby('label', axis=0).sum()).iloc[:,:1]\n",
        "plt.bar(target_values, count_data.iloc[:,0])"
      ]
    },
    {
      "cell_type": "code",
      "execution_count": 9,
      "id": "ce7b866f",
      "metadata": {
        "colab": {
          "base_uri": "https://localhost:8080/",
          "height": 833
        },
        "id": "ce7b866f",
        "outputId": "550c5953-418a-4a8a-ca11-72440a5766ee"
      },
      "outputs": [
        {
          "output_type": "execute_result",
          "data": {
            "text/plain": [
              "       pixel1\n",
              "label        \n",
              "0      184881\n",
              "1      146668\n",
              "2      183909\n",
              "3      162364\n",
              "4      158693\n",
              "5      171240\n",
              "6      188464\n",
              "7      166276\n",
              "8      184173\n",
              "10     109396\n",
              "11     180486\n",
              "12     163262\n",
              "13     181181\n",
              "14     192981\n",
              "15     122101\n",
              "16     149705\n",
              "17     173746\n",
              "18     182186\n",
              "19     197905\n",
              "20     153280\n",
              "21     154153\n",
              "22     151760\n",
              "23     170925\n",
              "24     162754"
            ],
            "text/html": [
              "\n",
              "  <div id=\"df-456d4904-17e1-4974-bc8f-789de805e2b9\">\n",
              "    <div class=\"colab-df-container\">\n",
              "      <div>\n",
              "<style scoped>\n",
              "    .dataframe tbody tr th:only-of-type {\n",
              "        vertical-align: middle;\n",
              "    }\n",
              "\n",
              "    .dataframe tbody tr th {\n",
              "        vertical-align: top;\n",
              "    }\n",
              "\n",
              "    .dataframe thead th {\n",
              "        text-align: right;\n",
              "    }\n",
              "</style>\n",
              "<table border=\"1\" class=\"dataframe\">\n",
              "  <thead>\n",
              "    <tr style=\"text-align: right;\">\n",
              "      <th></th>\n",
              "      <th>pixel1</th>\n",
              "    </tr>\n",
              "    <tr>\n",
              "      <th>label</th>\n",
              "      <th></th>\n",
              "    </tr>\n",
              "  </thead>\n",
              "  <tbody>\n",
              "    <tr>\n",
              "      <th>0</th>\n",
              "      <td>184881</td>\n",
              "    </tr>\n",
              "    <tr>\n",
              "      <th>1</th>\n",
              "      <td>146668</td>\n",
              "    </tr>\n",
              "    <tr>\n",
              "      <th>2</th>\n",
              "      <td>183909</td>\n",
              "    </tr>\n",
              "    <tr>\n",
              "      <th>3</th>\n",
              "      <td>162364</td>\n",
              "    </tr>\n",
              "    <tr>\n",
              "      <th>4</th>\n",
              "      <td>158693</td>\n",
              "    </tr>\n",
              "    <tr>\n",
              "      <th>5</th>\n",
              "      <td>171240</td>\n",
              "    </tr>\n",
              "    <tr>\n",
              "      <th>6</th>\n",
              "      <td>188464</td>\n",
              "    </tr>\n",
              "    <tr>\n",
              "      <th>7</th>\n",
              "      <td>166276</td>\n",
              "    </tr>\n",
              "    <tr>\n",
              "      <th>8</th>\n",
              "      <td>184173</td>\n",
              "    </tr>\n",
              "    <tr>\n",
              "      <th>10</th>\n",
              "      <td>109396</td>\n",
              "    </tr>\n",
              "    <tr>\n",
              "      <th>11</th>\n",
              "      <td>180486</td>\n",
              "    </tr>\n",
              "    <tr>\n",
              "      <th>12</th>\n",
              "      <td>163262</td>\n",
              "    </tr>\n",
              "    <tr>\n",
              "      <th>13</th>\n",
              "      <td>181181</td>\n",
              "    </tr>\n",
              "    <tr>\n",
              "      <th>14</th>\n",
              "      <td>192981</td>\n",
              "    </tr>\n",
              "    <tr>\n",
              "      <th>15</th>\n",
              "      <td>122101</td>\n",
              "    </tr>\n",
              "    <tr>\n",
              "      <th>16</th>\n",
              "      <td>149705</td>\n",
              "    </tr>\n",
              "    <tr>\n",
              "      <th>17</th>\n",
              "      <td>173746</td>\n",
              "    </tr>\n",
              "    <tr>\n",
              "      <th>18</th>\n",
              "      <td>182186</td>\n",
              "    </tr>\n",
              "    <tr>\n",
              "      <th>19</th>\n",
              "      <td>197905</td>\n",
              "    </tr>\n",
              "    <tr>\n",
              "      <th>20</th>\n",
              "      <td>153280</td>\n",
              "    </tr>\n",
              "    <tr>\n",
              "      <th>21</th>\n",
              "      <td>154153</td>\n",
              "    </tr>\n",
              "    <tr>\n",
              "      <th>22</th>\n",
              "      <td>151760</td>\n",
              "    </tr>\n",
              "    <tr>\n",
              "      <th>23</th>\n",
              "      <td>170925</td>\n",
              "    </tr>\n",
              "    <tr>\n",
              "      <th>24</th>\n",
              "      <td>162754</td>\n",
              "    </tr>\n",
              "  </tbody>\n",
              "</table>\n",
              "</div>\n",
              "      <button class=\"colab-df-convert\" onclick=\"convertToInteractive('df-456d4904-17e1-4974-bc8f-789de805e2b9')\"\n",
              "              title=\"Convert this dataframe to an interactive table.\"\n",
              "              style=\"display:none;\">\n",
              "        \n",
              "  <svg xmlns=\"http://www.w3.org/2000/svg\" height=\"24px\"viewBox=\"0 0 24 24\"\n",
              "       width=\"24px\">\n",
              "    <path d=\"M0 0h24v24H0V0z\" fill=\"none\"/>\n",
              "    <path d=\"M18.56 5.44l.94 2.06.94-2.06 2.06-.94-2.06-.94-.94-2.06-.94 2.06-2.06.94zm-11 1L8.5 8.5l.94-2.06 2.06-.94-2.06-.94L8.5 2.5l-.94 2.06-2.06.94zm10 10l.94 2.06.94-2.06 2.06-.94-2.06-.94-.94-2.06-.94 2.06-2.06.94z\"/><path d=\"M17.41 7.96l-1.37-1.37c-.4-.4-.92-.59-1.43-.59-.52 0-1.04.2-1.43.59L10.3 9.45l-7.72 7.72c-.78.78-.78 2.05 0 2.83L4 21.41c.39.39.9.59 1.41.59.51 0 1.02-.2 1.41-.59l7.78-7.78 2.81-2.81c.8-.78.8-2.07 0-2.86zM5.41 20L4 18.59l7.72-7.72 1.47 1.35L5.41 20z\"/>\n",
              "  </svg>\n",
              "      </button>\n",
              "      \n",
              "  <style>\n",
              "    .colab-df-container {\n",
              "      display:flex;\n",
              "      flex-wrap:wrap;\n",
              "      gap: 12px;\n",
              "    }\n",
              "\n",
              "    .colab-df-convert {\n",
              "      background-color: #E8F0FE;\n",
              "      border: none;\n",
              "      border-radius: 50%;\n",
              "      cursor: pointer;\n",
              "      display: none;\n",
              "      fill: #1967D2;\n",
              "      height: 32px;\n",
              "      padding: 0 0 0 0;\n",
              "      width: 32px;\n",
              "    }\n",
              "\n",
              "    .colab-df-convert:hover {\n",
              "      background-color: #E2EBFA;\n",
              "      box-shadow: 0px 1px 2px rgba(60, 64, 67, 0.3), 0px 1px 3px 1px rgba(60, 64, 67, 0.15);\n",
              "      fill: #174EA6;\n",
              "    }\n",
              "\n",
              "    [theme=dark] .colab-df-convert {\n",
              "      background-color: #3B4455;\n",
              "      fill: #D2E3FC;\n",
              "    }\n",
              "\n",
              "    [theme=dark] .colab-df-convert:hover {\n",
              "      background-color: #434B5C;\n",
              "      box-shadow: 0px 1px 3px 1px rgba(0, 0, 0, 0.15);\n",
              "      filter: drop-shadow(0px 1px 2px rgba(0, 0, 0, 0.3));\n",
              "      fill: #FFFFFF;\n",
              "    }\n",
              "  </style>\n",
              "\n",
              "      <script>\n",
              "        const buttonEl =\n",
              "          document.querySelector('#df-456d4904-17e1-4974-bc8f-789de805e2b9 button.colab-df-convert');\n",
              "        buttonEl.style.display =\n",
              "          google.colab.kernel.accessAllowed ? 'block' : 'none';\n",
              "\n",
              "        async function convertToInteractive(key) {\n",
              "          const element = document.querySelector('#df-456d4904-17e1-4974-bc8f-789de805e2b9');\n",
              "          const dataTable =\n",
              "            await google.colab.kernel.invokeFunction('convertToInteractive',\n",
              "                                                     [key], {});\n",
              "          if (!dataTable) return;\n",
              "\n",
              "          const docLinkHtml = 'Like what you see? Visit the ' +\n",
              "            '<a target=\"_blank\" href=https://colab.research.google.com/notebooks/data_table.ipynb>data table notebook</a>'\n",
              "            + ' to learn more about interactive tables.';\n",
              "          element.innerHTML = '';\n",
              "          dataTable['output_type'] = 'display_data';\n",
              "          await google.colab.output.renderOutput(dataTable, element);\n",
              "          const docLink = document.createElement('div');\n",
              "          docLink.innerHTML = docLinkHtml;\n",
              "          element.appendChild(docLink);\n",
              "        }\n",
              "      </script>\n",
              "    </div>\n",
              "  </div>\n",
              "  "
            ]
          },
          "metadata": {},
          "execution_count": 9
        }
      ],
      "source": [
        "count_data"
      ]
    },
    {
      "cell_type": "code",
      "execution_count": 10,
      "id": "40f1c37f",
      "metadata": {
        "colab": {
          "base_uri": "https://localhost:8080/"
        },
        "id": "40f1c37f",
        "outputId": "f1e23ea3-bb59-4eb2-f6eb-461971049d75"
      },
      "outputs": [
        {
          "output_type": "execute_result",
          "data": {
            "text/plain": [
              "784"
            ]
          },
          "metadata": {},
          "execution_count": 10
        }
      ],
      "source": [
        "X_train.iloc[0, :].shape[0]"
      ]
    },
    {
      "cell_type": "code",
      "execution_count": 11,
      "id": "3a1747c6",
      "metadata": {
        "colab": {
          "base_uri": "https://localhost:8080/"
        },
        "id": "3a1747c6",
        "outputId": "b64c9a46-bcb5-4868-e87f-0a6c1661f7b6"
      },
      "outputs": [
        {
          "output_type": "execute_result",
          "data": {
            "text/plain": [
              "(27455, 784)"
            ]
          },
          "metadata": {},
          "execution_count": 11
        }
      ],
      "source": [
        "X_train.shape"
      ]
    },
    {
      "cell_type": "code",
      "execution_count": 12,
      "id": "c73eaf78",
      "metadata": {
        "id": "c73eaf78"
      },
      "outputs": [],
      "source": [
        "X_train = X_train.values\n",
        "y_train = y_train.values"
      ]
    },
    {
      "cell_type": "code",
      "execution_count": 13,
      "id": "c2641fb3",
      "metadata": {
        "colab": {
          "base_uri": "https://localhost:8080/"
        },
        "id": "c2641fb3",
        "outputId": "7442dbc8-c715-4ade-852a-4b0238512434"
      },
      "outputs": [
        {
          "output_type": "execute_result",
          "data": {
            "text/plain": [
              "((27455, 784), (27455,))"
            ]
          },
          "metadata": {},
          "execution_count": 13
        }
      ],
      "source": [
        "X_train.shape, y_train.shape"
      ]
    },
    {
      "cell_type": "code",
      "execution_count": 14,
      "id": "1477ca88",
      "metadata": {
        "id": "1477ca88"
      },
      "outputs": [],
      "source": [
        "img = X_train[0].reshape(28, 28)"
      ]
    },
    {
      "cell_type": "code",
      "execution_count": 15,
      "id": "9884f55c",
      "metadata": {
        "colab": {
          "base_uri": "https://localhost:8080/"
        },
        "id": "9884f55c",
        "outputId": "497a7183-88e3-4015-935c-35bb6f2ca62c"
      },
      "outputs": [
        {
          "output_type": "execute_result",
          "data": {
            "text/plain": [
              "(28, 28)"
            ]
          },
          "metadata": {},
          "execution_count": 15
        }
      ],
      "source": [
        "img.shape"
      ]
    },
    {
      "cell_type": "code",
      "execution_count": 16,
      "id": "543044d3",
      "metadata": {
        "colab": {
          "base_uri": "https://localhost:8080/",
          "height": 282
        },
        "id": "543044d3",
        "outputId": "d015d1d2-ffe0-41c7-e3e9-b1090cd310ee"
      },
      "outputs": [
        {
          "output_type": "execute_result",
          "data": {
            "text/plain": [
              "<matplotlib.image.AxesImage at 0x7faba8ed5150>"
            ]
          },
          "metadata": {},
          "execution_count": 16
        },
        {
          "output_type": "display_data",
          "data": {
            "text/plain": [
              "<Figure size 432x288 with 1 Axes>"
            ],
            "image/png": "[encoded data removed]"
          },
          "metadata": {
            "needs_background": "light"
          }
        }
      ],
      "source": [
        "plt.imshow(img)"
      ]
    },
    {
      "cell_type": "code",
      "execution_count": 17,
      "id": "dfa9954d",
      "metadata": {
        "id": "dfa9954d"
      },
      "outputs": [],
      "source": [
        "X_train = X_train.reshape(27455, 28, 28)"
      ]
    },
    {
      "cell_type": "code",
      "execution_count": 18,
      "id": "48b50f8c",
      "metadata": {
        "colab": {
          "base_uri": "https://localhost:8080/",
          "height": 282
        },
        "id": "48b50f8c",
        "outputId": "cb36959b-b975-4657-f6f9-90b599896129"
      },
      "outputs": [
        {
          "output_type": "execute_result",
          "data": {
            "text/plain": [
              "<matplotlib.image.AxesImage at 0x7faba8e2ce90>"
            ]
          },
          "metadata": {},
          "execution_count": 18
        },
        {
          "output_type": "display_data",
          "data": {
            "text/plain": [
              "<Figure size 432x288 with 1 Axes>"
            ],
            "image/png": "[encoded data removed]"
          },
          "metadata": {
            "needs_background": "light"
          }
        }
      ],
      "source": [
        "plt.imshow(X_train[52])"
      ]
    },
    {
      "cell_type": "code",
      "execution_count": 19,
      "id": "86db47b7",
      "metadata": {
        "colab": {
          "base_uri": "https://localhost:8080/"
        },
        "id": "86db47b7",
        "outputId": "ad3c8b33-2036-4c87-eb8e-697fd5cc5547"
      },
      "outputs": [
        {
          "output_type": "execute_result",
          "data": {
            "text/plain": [
              "array([[[107, 118, 127, ..., 170, 170, 169],\n",
              "        [111, 121, 129, ..., 171, 171, 170],\n",
              "        [113, 123, 131, ..., 171, 171, 171],\n",
              "        ...,\n",
              "        [142, 150, 159, ..., 202, 201, 200],\n",
              "        [142, 151, 160, ..., 204, 203, 202],\n",
              "        [142, 151, 160, ..., 204, 203, 202]],\n",
              "\n",
              "       [[155, 157, 156, ..., 138,  92, 108],\n",
              "        [158, 159, 159, ..., 142, 116, 143],\n",
              "        [161, 161, 161, ..., 147, 125, 140],\n",
              "        ...,\n",
              "        [162, 159, 145, ...,  91, 101,  94],\n",
              "        [153, 139, 115, ...,  97,  95, 120],\n",
              "        [135, 116,  95, ..., 103, 135, 149]],\n",
              "\n",
              "       [[187, 188, 188, ...,  66,  77,  83],\n",
              "        [188, 189, 189, ...,  73,  73,  71],\n",
              "        [190, 190, 190, ...,  74,  68,  61],\n",
              "        ...,\n",
              "        [212, 198, 175, ..., 195, 193, 192],\n",
              "        [202, 179, 152, ..., 195, 194, 193],\n",
              "        [198, 166, 132, ..., 195, 194, 195]],\n",
              "\n",
              "       [[211, 211, 212, ...,  51,  52,  54],\n",
              "        [212, 213, 215, ...,  44,  49,  46],\n",
              "        [215, 217, 218, ...,  52,  41,  45],\n",
              "        ...,\n",
              "        [ 65,  62,  58, ..., 220, 219, 217],\n",
              "        [ 63,  56,  52, ..., 221, 220, 216],\n",
              "        [ 58,  51,  49, ..., 222, 229, 163]],\n",
              "\n",
              "       [[164, 167, 170, ..., 192, 194, 194],\n",
              "        [166, 169, 172, ..., 194, 195, 195],\n",
              "        [167, 170, 173, ..., 197, 197, 196],\n",
              "        ...,\n",
              "        [130, 134, 139, ..., 209, 211, 211],\n",
              "        [ 99, 101, 100, ..., 152, 156, 179],\n",
              "        [105, 106, 105, ..., 163, 164, 179]]])"
            ]
          },
          "metadata": {},
          "execution_count": 19
        }
      ],
      "source": [
        "X_train[:5]"
      ]
    },
    {
      "cell_type": "code",
      "execution_count": 20,
      "id": "7220b14d",
      "metadata": {
        "colab": {
          "base_uri": "https://localhost:8080/"
        },
        "id": "7220b14d",
        "outputId": "655de9b3-63be-4f22-95fe-52eb683e0daf"
      },
      "outputs": [
        {
          "output_type": "execute_result",
          "data": {
            "text/plain": [
              "(28, 28)"
            ]
          },
          "metadata": {},
          "execution_count": 20
        }
      ],
      "source": [
        "X_train[0].shape"
      ]
    },
    {
      "cell_type": "code",
      "execution_count": 21,
      "id": "8618439d",
      "metadata": {
        "id": "8618439d"
      },
      "outputs": [],
      "source": [
        "X_train_reshape = X_train.reshape((27455, 28, 28, 1))"
      ]
    },
    {
      "cell_type": "code",
      "execution_count": 22,
      "id": "53805599",
      "metadata": {
        "colab": {
          "base_uri": "https://localhost:8080/"
        },
        "id": "53805599",
        "outputId": "293f6d58-ab99-4e57-a963-0b87fae4ebbe"
      },
      "outputs": [
        {
          "output_type": "execute_result",
          "data": {
            "text/plain": [
              "(27455, 28, 28, 1)"
            ]
          },
          "metadata": {},
          "execution_count": 22
        }
      ],
      "source": [
        "X_train_reshape.shape"
      ]
    },
    {
      "cell_type": "code",
      "execution_count": 23,
      "id": "c89014b2",
      "metadata": {
        "colab": {
          "base_uri": "https://localhost:8080/"
        },
        "id": "c89014b2",
        "outputId": "8925636c-bfe1-4783-c721-7c6db6271b46"
      },
      "outputs": [
        {
          "output_type": "execute_result",
          "data": {
            "text/plain": [
              "(28, 28, 1)"
            ]
          },
          "metadata": {},
          "execution_count": 23
        }
      ],
      "source": [
        "X_train_reshape[0].shape"
      ]
    },
    {
      "cell_type": "code",
      "execution_count": 24,
      "id": "6f26872b",
      "metadata": {
        "colab": {
          "base_uri": "https://localhost:8080/"
        },
        "id": "6f26872b",
        "outputId": "4461c356-cbc6-4b60-9a8f-eb1359281982"
      },
      "outputs": [
        {
          "output_type": "execute_result",
          "data": {
            "text/plain": [
              "(255, 0)"
            ]
          },
          "metadata": {},
          "execution_count": 24
        }
      ],
      "source": [
        "np.max(X_train), np.min(X_train)"
      ]
    },
    {
      "cell_type": "code",
      "execution_count": 25,
      "id": "fddd23db",
      "metadata": {
        "id": "fddd23db"
      },
      "outputs": [],
      "source": [
        "X_train_norm = X_train_reshape / 255"
      ]
    },
    {
      "cell_type": "code",
      "execution_count": 26,
      "id": "283aa4f3",
      "metadata": {
        "colab": {
          "base_uri": "https://localhost:8080/"
        },
        "id": "283aa4f3",
        "outputId": "9206092c-30d2-4b94-8a98-e24d2f136193"
      },
      "outputs": [
        {
          "output_type": "stream",
          "name": "stdout",
          "text": [
            "Model: \"sequential\"\n",
            "_________________________________________________________________\n",
            " Layer (type)                Output Shape              Param #   \n",
            "=================================================================\n",
            " conv2d (Conv2D)             (None, 26, 26, 32)        320       \n",
            "                                                                 \n",
            " max_pooling2d (MaxPooling2D  (None, 13, 13, 32)       0         \n",
            " )                                                               \n",
            "                                                                 \n",
            " flatten (Flatten)           (None, 5408)              0         \n",
            "                                                                 \n",
            " dense (Dense)               (None, 1024)              5538816   \n",
            "                                                                 \n",
            " dropout (Dropout)           (None, 1024)              0         \n",
            "                                                                 \n",
            " dense_1 (Dense)             (None, 2)                 2050      \n",
            "                                                                 \n",
            "=================================================================\n",
            "Total params: 5,541,186\n",
            "Trainable params: 5,541,186\n",
            "Non-trainable params: 0\n",
            "_________________________________________________________________\n"
          ]
        }
      ],
      "source": [
        "# Building the model\n",
        "model = tf.keras.Sequential([\n",
        "    tf.keras.layers.Conv2D(32,(3,3), activation='relu', input_shape=(28, 28, 1)),\n",
        "    tf.keras.layers.MaxPool2D((2,2)),\n",
        "#     tf.keras.layers.Conv2D(128, (3,3), activation='relu'),\n",
        "#     tf.keras.layers.MaxPool2D((2,2)),\n",
        "    tf.keras.layers.Flatten(),\n",
        "    tf.keras.layers.Dense(1024, activation='relu'),\n",
        "#     tf.keras.layers.Dense(256, activation='relu'),\n",
        "    tf.keras.layers.Dropout(0),\n",
        "    tf.keras.layers.Dense(2, activation='sigmoid')\n",
        "])\n",
        "\n",
        "model.summary()"
      ]
    },
    {
      "cell_type": "code",
      "execution_count": 27,
      "id": "e0ccc1fd",
      "metadata": {
        "colab": {
          "base_uri": "https://localhost:8080/"
        },
        "id": "e0ccc1fd",
        "outputId": "4bb223f8-14e3-4753-a695-c4db3b0bc3c3"
      },
      "outputs": [
        {
          "output_type": "stream",
          "name": "stderr",
          "text": [
            "/usr/local/lib/python3.7/dist-packages/keras/optimizers/optimizer_v2/gradient_descent.py:108: UserWarning: The `lr` argument is deprecated, use `learning_rate` instead.\n",
            "  super(SGD, self).__init__(name, **kwargs)\n"
          ]
        },
        {
          "output_type": "stream",
          "name": "stdout",
          "text": [
            "Epoch 1/10\n",
            "858/858 [==============================] - 11s 3ms/step - loss: nan - accuracy: 0.0410\n",
            "Epoch 2/10\n",
            "858/858 [==============================] - 2s 3ms/step - loss: nan - accuracy: 0.0410\n",
            "Epoch 3/10\n",
            "858/858 [==============================] - 2s 3ms/step - loss: nan - accuracy: 0.0410\n",
            "Epoch 4/10\n",
            "858/858 [==============================] - 2s 3ms/step - loss: nan - accuracy: 0.0410\n",
            "Epoch 5/10\n",
            "858/858 [==============================] - 2s 3ms/step - loss: nan - accuracy: 0.0410\n",
            "Epoch 6/10\n",
            "858/858 [==============================] - 2s 3ms/step - loss: nan - accuracy: 0.0410\n",
            "Epoch 7/10\n",
            "858/858 [==============================] - 2s 3ms/step - loss: nan - accuracy: 0.0410\n",
            "Epoch 8/10\n",
            "858/858 [==============================] - 2s 3ms/step - loss: nan - accuracy: 0.0410\n",
            "Epoch 9/10\n",
            "858/858 [==============================] - 2s 3ms/step - loss: nan - accuracy: 0.0410\n",
            "Epoch 10/10\n",
            "858/858 [==============================] - 2s 3ms/step - loss: nan - accuracy: 0.0410\n"
          ]
        },
        {
          "output_type": "execute_result",
          "data": {
            "text/plain": [
              "<keras.callbacks.History at 0x7fab3e49c5d0>"
            ]
          },
          "metadata": {},
          "execution_count": 27
        }
      ],
      "source": [
        "tf.random.set_seed(123)\n",
        "\n",
        "model.compile(optimizer=tf.keras.optimizers.SGD(lr=0.01),\n",
        "              loss=tf.keras.losses.sparse_categorical_crossentropy,\n",
        "              metrics=['accuracy']\n",
        "             )\n",
        "\n",
        "model.fit(X_train_norm, y_train, epochs=10)\n"
      ]
    },
    {
      "cell_type": "code",
      "execution_count": 28,
      "id": "a8318ea4",
      "metadata": {
        "id": "a8318ea4"
      },
      "outputs": [],
      "source": [
        "model.save('model1.h5')"
      ]
    },
    {
      "cell_type": "code",
      "execution_count": 29,
      "id": "8b95d15a",
      "metadata": {
        "colab": {
          "base_uri": "https://localhost:8080/"
        },
        "id": "8b95d15a",
        "outputId": "d96852e9-de52-478b-c8d1-ce82969e28a8"
      },
      "outputs": [
        {
          "output_type": "stream",
          "name": "stdout",
          "text": [
            "1/1 [==============================] - 0s 237ms/step\n"
          ]
        }
      ],
      "source": [
        "with tf.device('/CPU:0'):\n",
        "    prediction = (model.predict(X_train_reshape[7:8] / 255))"
      ]
    },
    {
      "cell_type": "code",
      "execution_count": 30,
      "id": "73a04270",
      "metadata": {
        "colab": {
          "base_uri": "https://localhost:8080/"
        },
        "id": "73a04270",
        "outputId": "a0fc925c-5da2-41e4-9fa1-dea004d27235"
      },
      "outputs": [
        {
          "output_type": "execute_result",
          "data": {
            "text/plain": [
              "0"
            ]
          },
          "metadata": {},
          "execution_count": 30
        }
      ],
      "source": [
        "target_values[np.argmax(prediction)]"
      ]
    },
    {
      "cell_type": "code",
      "execution_count": 31,
      "id": "140d1dc0",
      "metadata": {
        "colab": {
          "base_uri": "https://localhost:8080/",
          "height": 282
        },
        "id": "140d1dc0",
        "outputId": "874a4234-2b01-49ca-ea82-8f9d12c1240e"
      },
      "outputs": [
        {
          "output_type": "execute_result",
          "data": {
            "text/plain": [
              "<matplotlib.image.AxesImage at 0x7fab3e3166d0>"
            ]
          },
          "metadata": {},
          "execution_count": 31
        },
        {
          "output_type": "display_data",
          "data": {
            "text/plain": [
              "<Figure size 432x288 with 1 Axes>"
            ],
            "image/png": "[encoded data removed]"
          },
          "metadata": {
            "needs_background": "light"
          }
        }
      ],
      "source": [
        "plt.imshow(X_train_reshape[7:8].squeeze())"
      ]
    },
    {
      "cell_type": "code",
      "execution_count": 32,
      "id": "911cace7",
      "metadata": {
        "colab": {
          "base_uri": "https://localhost:8080/"
        },
        "id": "911cace7",
        "outputId": "7f6daf75-8a51-40fa-d734-01349de47390"
      },
      "outputs": [
        {
          "output_type": "execute_result",
          "data": {
            "text/plain": [
              "22"
            ]
          },
          "metadata": {},
          "execution_count": 32
        }
      ],
      "source": [
        "y_train[7]"
      ]
    },
    {
      "cell_type": "code",
      "execution_count": 33,
      "id": "fd96d551",
      "metadata": {
        "colab": {
          "base_uri": "https://localhost:8080/"
        },
        "id": "fd96d551",
        "outputId": "8ac243ba-3b1c-4e26-f173-46c5d9ee993b"
      },
      "outputs": [
        {
          "output_type": "stream",
          "name": "stdout",
          "text": [
            "1/1 [==============================] - 0s 96ms/step\n"
          ]
        },
        {
          "output_type": "execute_result",
          "data": {
            "text/plain": [
              "0"
            ]
          },
          "metadata": {},
          "execution_count": 33
        }
      ],
      "source": [
        "prediction = (model.predict(X_train_reshape[9:10] / 255))\n",
        "\n",
        "target_values[np.argmax(prediction)]"
      ]
    },
    {
      "cell_type": "code",
      "execution_count": 34,
      "id": "f6bb42ad",
      "metadata": {
        "colab": {
          "base_uri": "https://localhost:8080/",
          "height": 282
        },
        "id": "f6bb42ad",
        "outputId": "0e1029ac-519f-481e-9d6c-4c839a252100"
      },
      "outputs": [
        {
          "output_type": "execute_result",
          "data": {
            "text/plain": [
              "<matplotlib.image.AxesImage at 0x7fab0f3810d0>"
            ]
          },
          "metadata": {},
          "execution_count": 34
        },
        {
          "output_type": "display_data",
          "data": {
            "text/plain": [
              "<Figure size 432x288 with 1 Axes>"
            ],
            "image/png": "[encoded data removed]"
          },
          "metadata": {
            "needs_background": "light"
          }
        }
      ],
      "source": [
        "plt.imshow(X_train_reshape[9:10].squeeze())"
      ]
    },
    {
      "cell_type": "code",
      "execution_count": 35,
      "id": "ec659be2",
      "metadata": {
        "colab": {
          "base_uri": "https://localhost:8080/"
        },
        "id": "ec659be2",
        "outputId": "2c39efb4-a053-45a6-9bcc-b6779a0153c2"
      },
      "outputs": [
        {
          "output_type": "execute_result",
          "data": {
            "text/plain": [
              "3"
            ]
          },
          "metadata": {},
          "execution_count": 35
        }
      ],
      "source": [
        "y_train[9]"
      ]
    },
    {
      "cell_type": "code",
      "execution_count": 36,
      "id": "123fb0cf",
      "metadata": {
        "colab": {
          "base_uri": "https://localhost:8080/",
          "height": 299
        },
        "id": "123fb0cf",
        "outputId": "4513609f-c623-4fdd-97a5-ae5da5f8c193"
      },
      "outputs": [
        {
          "output_type": "execute_result",
          "data": {
            "text/plain": [
              "   label  pixel1  pixel2  pixel3  pixel4  pixel5  pixel6  pixel7  pixel8  \\\n",
              "0      6     149     149     150     150     150     151     151     150   \n",
              "1      5     126     128     131     132     133     134     135     135   \n",
              "2     10      85      88      92      96     105     123     135     143   \n",
              "3      0     203     205     207     206     207     209     210     209   \n",
              "4      3     188     191     193     195     199     201     202     203   \n",
              "\n",
              "   pixel9  ...  pixel775  pixel776  pixel777  pixel778  pixel779  pixel780  \\\n",
              "0     151  ...       138       148       127        89        82        96   \n",
              "1     136  ...        47       104       194       183       186       184   \n",
              "2     147  ...        68       166       242       227       230       227   \n",
              "3     210  ...       154       248       247       248       253       236   \n",
              "4     203  ...        26        40        64        48        29        46   \n",
              "\n",
              "   pixel781  pixel782  pixel783  pixel784  \n",
              "0       106       112       120       107  \n",
              "1       184       184       182       180  \n",
              "2       226       225       224       222  \n",
              "3       230       240       253       255  \n",
              "4        49        46        46        53  \n",
              "\n",
              "[5 rows x 785 columns]"
            ],
            "text/html": [
              "\n",
              "  <div id=\"df-10e83023-5af4-4402-a892-47b375e88aeb\">\n",
              "    <div class=\"colab-df-container\">\n",
              "      <div>\n",
              "<style scoped>\n",
              "    .dataframe tbody tr th:only-of-type {\n",
              "        vertical-align: middle;\n",
              "    }\n",
              "\n",
              "    .dataframe tbody tr th {\n",
              "        vertical-align: top;\n",
              "    }\n",
              "\n",
              "    .dataframe thead th {\n",
              "        text-align: right;\n",
              "    }\n",
              "</style>\n",
              "<table border=\"1\" class=\"dataframe\">\n",
              "  <thead>\n",
              "    <tr style=\"text-align: right;\">\n",
              "      <th></th>\n",
              "      <th>label</th>\n",
              "      <th>pixel1</th>\n",
              "      <th>pixel2</th>\n",
              "      <th>pixel3</th>\n",
              "      <th>pixel4</th>\n",
              "      <th>pixel5</th>\n",
              "      <th>pixel6</th>\n",
              "      <th>pixel7</th>\n",
              "      <th>pixel8</th>\n",
              "      <th>pixel9</th>\n",
              "      <th>...</th>\n",
              "      <th>pixel775</th>\n",
              "      <th>pixel776</th>\n",
              "      <th>pixel777</th>\n",
              "      <th>pixel778</th>\n",
              "      <th>pixel779</th>\n",
              "      <th>pixel780</th>\n",
              "      <th>pixel781</th>\n",
              "      <th>pixel782</th>\n",
              "      <th>pixel783</th>\n",
              "      <th>pixel784</th>\n",
              "    </tr>\n",
              "  </thead>\n",
              "  <tbody>\n",
              "    <tr>\n",
              "      <th>0</th>\n",
              "      <td>6</td>\n",
              "      <td>149</td>\n",
              "      <td>149</td>\n",
              "      <td>150</td>\n",
              "      <td>150</td>\n",
              "      <td>150</td>\n",
              "      <td>151</td>\n",
              "      <td>151</td>\n",
              "      <td>150</td>\n",
              "      <td>151</td>\n",
              "      <td>...</td>\n",
              "      <td>138</td>\n",
              "      <td>148</td>\n",
              "      <td>127</td>\n",
              "      <td>89</td>\n",
              "      <td>82</td>\n",
              "      <td>96</td>\n",
              "      <td>106</td>\n",
              "      <td>112</td>\n",
              "      <td>120</td>\n",
              "      <td>107</td>\n",
              "    </tr>\n",
              "    <tr>\n",
              "      <th>1</th>\n",
              "      <td>5</td>\n",
              "      <td>126</td>\n",
              "      <td>128</td>\n",
              "      <td>131</td>\n",
              "      <td>132</td>\n",
              "      <td>133</td>\n",
              "      <td>134</td>\n",
              "      <td>135</td>\n",
              "      <td>135</td>\n",
              "      <td>136</td>\n",
              "      <td>...</td>\n",
              "      <td>47</td>\n",
              "      <td>104</td>\n",
              "      <td>194</td>\n",
              "      <td>183</td>\n",
              "      <td>186</td>\n",
              "      <td>184</td>\n",
              "      <td>184</td>\n",
              "      <td>184</td>\n",
              "      <td>182</td>\n",
              "      <td>180</td>\n",
              "    </tr>\n",
              "    <tr>\n",
              "      <th>2</th>\n",
              "      <td>10</td>\n",
              "      <td>85</td>\n",
              "      <td>88</td>\n",
              "      <td>92</td>\n",
              "      <td>96</td>\n",
              "      <td>105</td>\n",
              "      <td>123</td>\n",
              "      <td>135</td>\n",
              "      <td>143</td>\n",
              "      <td>147</td>\n",
              "      <td>...</td>\n",
              "      <td>68</td>\n",
              "      <td>166</td>\n",
              "      <td>242</td>\n",
              "      <td>227</td>\n",
              "      <td>230</td>\n",
              "      <td>227</td>\n",
              "      <td>226</td>\n",
              "      <td>225</td>\n",
              "      <td>224</td>\n",
              "      <td>222</td>\n",
              "    </tr>\n",
              "    <tr>\n",
              "      <th>3</th>\n",
              "      <td>0</td>\n",
              "      <td>203</td>\n",
              "      <td>205</td>\n",
              "      <td>207</td>\n",
              "      <td>206</td>\n",
              "      <td>207</td>\n",
              "      <td>209</td>\n",
              "      <td>210</td>\n",
              "      <td>209</td>\n",
              "      <td>210</td>\n",
              "      <td>...</td>\n",
              "      <td>154</td>\n",
              "      <td>248</td>\n",
              "      <td>247</td>\n",
              "      <td>248</td>\n",
              "      <td>253</td>\n",
              "      <td>236</td>\n",
              "      <td>230</td>\n",
              "      <td>240</td>\n",
              "      <td>253</td>\n",
              "      <td>255</td>\n",
              "    </tr>\n",
              "    <tr>\n",
              "      <th>4</th>\n",
              "      <td>3</td>\n",
              "      <td>188</td>\n",
              "      <td>191</td>\n",
              "      <td>193</td>\n",
              "      <td>195</td>\n",
              "      <td>199</td>\n",
              "      <td>201</td>\n",
              "      <td>202</td>\n",
              "      <td>203</td>\n",
              "      <td>203</td>\n",
              "      <td>...</td>\n",
              "      <td>26</td>\n",
              "      <td>40</td>\n",
              "      <td>64</td>\n",
              "      <td>48</td>\n",
              "      <td>29</td>\n",
              "      <td>46</td>\n",
              "      <td>49</td>\n",
              "      <td>46</td>\n",
              "      <td>46</td>\n",
              "      <td>53</td>\n",
              "    </tr>\n",
              "  </tbody>\n",
              "</table>\n",
              "<p>5 rows × 785 columns</p>\n",
              "</div>\n",
              "      <button class=\"colab-df-convert\" onclick=\"convertToInteractive('df-10e83023-5af4-4402-a892-47b375e88aeb')\"\n",
              "              title=\"Convert this dataframe to an interactive table.\"\n",
              "              style=\"display:none;\">\n",
              "        \n",
              "  <svg xmlns=\"http://www.w3.org/2000/svg\" height=\"24px\"viewBox=\"0 0 24 24\"\n",
              "       width=\"24px\">\n",
              "    <path d=\"M0 0h24v24H0V0z\" fill=\"none\"/>\n",
              "    <path d=\"M18.56 5.44l.94 2.06.94-2.06 2.06-.94-2.06-.94-.94-2.06-.94 2.06-2.06.94zm-11 1L8.5 8.5l.94-2.06 2.06-.94-2.06-.94L8.5 2.5l-.94 2.06-2.06.94zm10 10l.94 2.06.94-2.06 2.06-.94-2.06-.94-.94-2.06-.94 2.06-2.06.94z\"/><path d=\"M17.41 7.96l-1.37-1.37c-.4-.4-.92-.59-1.43-.59-.52 0-1.04.2-1.43.59L10.3 9.45l-7.72 7.72c-.78.78-.78 2.05 0 2.83L4 21.41c.39.39.9.59 1.41.59.51 0 1.02-.2 1.41-.59l7.78-7.78 2.81-2.81c.8-.78.8-2.07 0-2.86zM5.41 20L4 18.59l7.72-7.72 1.47 1.35L5.41 20z\"/>\n",
              "  </svg>\n",
              "      </button>\n",
              "      \n",
              "  <style>\n",
              "    .colab-df-container {\n",
              "      display:flex;\n",
              "      flex-wrap:wrap;\n",
              "      gap: 12px;\n",
              "    }\n",
              "\n",
              "    .colab-df-convert {\n",
              "      background-color: #E8F0FE;\n",
              "      border: none;\n",
              "      border-radius: 50%;\n",
              "      cursor: pointer;\n",
              "      display: none;\n",
              "      fill: #1967D2;\n",
              "      height: 32px;\n",
              "      padding: 0 0 0 0;\n",
              "      width: 32px;\n",
              "    }\n",
              "\n",
              "    .colab-df-convert:hover {\n",
              "      background-color: #E2EBFA;\n",
              "      box-shadow: 0px 1px 2px rgba(60, 64, 67, 0.3), 0px 1px 3px 1px rgba(60, 64, 67, 0.15);\n",
              "      fill: #174EA6;\n",
              "    }\n",
              "\n",
              "    [theme=dark] .colab-df-convert {\n",
              "      background-color: #3B4455;\n",
              "      fill: #D2E3FC;\n",
              "    }\n",
              "\n",
              "    [theme=dark] .colab-df-convert:hover {\n",
              "      background-color: #434B5C;\n",
              "      box-shadow: 0px 1px 3px 1px rgba(0, 0, 0, 0.15);\n",
              "      filter: drop-shadow(0px 1px 2px rgba(0, 0, 0, 0.3));\n",
              "      fill: #FFFFFF;\n",
              "    }\n",
              "  </style>\n",
              "\n",
              "      <script>\n",
              "        const buttonEl =\n",
              "          document.querySelector('#df-10e83023-5af4-4402-a892-47b375e88aeb button.colab-df-convert');\n",
              "        buttonEl.style.display =\n",
              "          google.colab.kernel.accessAllowed ? 'block' : 'none';\n",
              "\n",
              "        async function convertToInteractive(key) {\n",
              "          const element = document.querySelector('#df-10e83023-5af4-4402-a892-47b375e88aeb');\n",
              "          const dataTable =\n",
              "            await google.colab.kernel.invokeFunction('convertToInteractive',\n",
              "                                                     [key], {});\n",
              "          if (!dataTable) return;\n",
              "\n",
              "          const docLinkHtml = 'Like what you see? Visit the ' +\n",
              "            '<a target=\"_blank\" href=https://colab.research.google.com/notebooks/data_table.ipynb>data table notebook</a>'\n",
              "            + ' to learn more about interactive tables.';\n",
              "          element.innerHTML = '';\n",
              "          dataTable['output_type'] = 'display_data';\n",
              "          await google.colab.output.renderOutput(dataTable, element);\n",
              "          const docLink = document.createElement('div');\n",
              "          docLink.innerHTML = docLinkHtml;\n",
              "          element.appendChild(docLink);\n",
              "        }\n",
              "      </script>\n",
              "    </div>\n",
              "  </div>\n",
              "  "
            ]
          },
          "metadata": {},
          "execution_count": 36
        }
      ],
      "source": [
        "test = pd.read_csv('/content/drive/MyDrive/sign MNIST  Dataset/sign_mnist_test.csv')\n",
        "test.head()"
      ]
    },
    {
      "cell_type": "code",
      "execution_count": 37,
      "id": "4019e7e1",
      "metadata": {
        "id": "4019e7e1"
      },
      "outputs": [],
      "source": [
        "X_test = test.drop('label', axis=1).values\n",
        "y_test = test['label'].values"
      ]
    },
    {
      "cell_type": "code",
      "execution_count": 38,
      "id": "dd835f22",
      "metadata": {
        "colab": {
          "base_uri": "https://localhost:8080/"
        },
        "id": "dd835f22",
        "outputId": "a3dbcc39-00a6-4ddd-c4b6-8bb8cd6d2266"
      },
      "outputs": [
        {
          "output_type": "execute_result",
          "data": {
            "text/plain": [
              "(7172, 784)"
            ]
          },
          "metadata": {},
          "execution_count": 38
        }
      ],
      "source": [
        "X_test.shape"
      ]
    },
    {
      "cell_type": "code",
      "execution_count": 39,
      "id": "b2820390",
      "metadata": {
        "id": "b2820390"
      },
      "outputs": [],
      "source": [
        "X_test = X_test.reshape(7172, 28, 28)"
      ]
    },
    {
      "cell_type": "code",
      "execution_count": 40,
      "id": "df05076e",
      "metadata": {
        "scrolled": true,
        "colab": {
          "base_uri": "https://localhost:8080/",
          "height": 282
        },
        "id": "df05076e",
        "outputId": "fc74038d-97a4-46ed-e2a5-762d65241cbf"
      },
      "outputs": [
        {
          "output_type": "execute_result",
          "data": {
            "text/plain": [
              "<matplotlib.image.AxesImage at 0x7fab3e2f8090>"
            ]
          },
          "metadata": {},
          "execution_count": 40
        },
        {
          "output_type": "display_data",
          "data": {
            "text/plain": [
              "<Figure size 432x288 with 1 Axes>"
            ],
            "image/png": "[encoded data removed]"
          },
          "metadata": {
            "needs_background": "light"
          }
        }
      ],
      "source": [
        "plt.imshow(X_test[0])"
      ]
    },
    {
      "cell_type": "code",
      "execution_count": 41,
      "id": "917154df",
      "metadata": {
        "id": "917154df"
      },
      "outputs": [],
      "source": [
        "X_test_reshape = X_test.reshape((7172, 28, 28, 1))"
      ]
    },
    {
      "cell_type": "code",
      "execution_count": 42,
      "id": "de717a1d",
      "metadata": {
        "id": "de717a1d"
      },
      "outputs": [],
      "source": [
        "X_test_norm = X_test_reshape / 255"
      ]
    },
    {
      "cell_type": "code",
      "source": [
        "model1 = tf.keras.models.load_model('model1.h5')"
      ],
      "metadata": {
        "id": "2yTi0JMDywUh"
      },
      "id": "2yTi0JMDywUh",
      "execution_count": 43,
      "outputs": []
    },
    {
      "cell_type": "code",
      "execution_count": 44,
      "id": "3c2cf669",
      "metadata": {
        "colab": {
          "base_uri": "https://localhost:8080/"
        },
        "id": "3c2cf669",
        "outputId": "c4e1a755-6792-4368-a3d5-e66dad8a434e"
      },
      "outputs": [
        {
          "output_type": "stream",
          "name": "stdout",
          "text": [
            "225/225 [==============================] - 1s 2ms/step - loss: nan - accuracy: 0.0462\n"
          ]
        },
        {
          "output_type": "execute_result",
          "data": {
            "text/plain": [
              "[nan, 0.04615170136094093]"
            ]
          },
          "metadata": {},
          "execution_count": 44
        }
      ],
      "source": [
        "model1.evaluate(X_test_norm, y_test)"
      ]
    },
    {
      "cell_type": "markdown",
      "id": "0c6bf4c6",
      "metadata": {
        "id": "0c6bf4c6"
      },
      "source": [
        "### Model 1:\n",
        "* accuracy: 0.805\n",
        "* loss: 0.661"
      ]
    },
    {
      "cell_type": "code",
      "execution_count": 45,
      "id": "05dc930d",
      "metadata": {
        "colab": {
          "base_uri": "https://localhost:8080/"
        },
        "id": "05dc930d",
        "outputId": "c2d5c3fd-7e5f-4e26-ddec-bd03c2929b52"
      },
      "outputs": [
        {
          "output_type": "stream",
          "name": "stdout",
          "text": [
            "Model: \"sequential_1\"\n",
            "_________________________________________________________________\n",
            " Layer (type)                Output Shape              Param #   \n",
            "=================================================================\n",
            " conv2d_1 (Conv2D)           (None, 26, 26, 32)        320       \n",
            "                                                                 \n",
            " max_pooling2d_1 (MaxPooling  (None, 13, 13, 32)       0         \n",
            " 2D)                                                             \n",
            "                                                                 \n",
            " conv2d_2 (Conv2D)           (None, 11, 11, 128)       36992     \n",
            "                                                                 \n",
            " max_pooling2d_2 (MaxPooling  (None, 5, 5, 128)        0         \n",
            " 2D)                                                             \n",
            "                                                                 \n",
            " flatten_1 (Flatten)         (None, 3200)              0         \n",
            "                                                                 \n",
            " dense_2 (Dense)             (None, 1024)              3277824   \n",
            "                                                                 \n",
            " dense_3 (Dense)             (None, 256)               262400    \n",
            "                                                                 \n",
            " dropout_1 (Dropout)         (None, 256)               0         \n",
            "                                                                 \n",
            " dense_4 (Dense)             (None, 25)                6425      \n",
            "                                                                 \n",
            "=================================================================\n",
            "Total params: 3,583,961\n",
            "Trainable params: 3,583,961\n",
            "Non-trainable params: 0\n",
            "_________________________________________________________________\n"
          ]
        }
      ],
      "source": [
        "model2 = tf.keras.Sequential([\n",
        "    tf.keras.layers.Conv2D(32,(3,3), activation='relu', input_shape=(28, 28, 1)),\n",
        "    tf.keras.layers.MaxPool2D((2,2)),\n",
        "    tf.keras.layers.Conv2D(128, (3,3), activation='relu'),\n",
        "    tf.keras.layers.MaxPool2D((2,2)),\n",
        "    tf.keras.layers.Flatten(),\n",
        "    tf.keras.layers.Dense(1024, activation='relu'),\n",
        "    tf.keras.layers.Dense(256, activation='relu'),\n",
        "    tf.keras.layers.Dropout(0),\n",
        "    tf.keras.layers.Dense(25, activation='sigmoid')\n",
        "])\n",
        "\n",
        "model2.summary()"
      ]
    },
    {
      "cell_type": "code",
      "execution_count": 46,
      "id": "e25624f7",
      "metadata": {
        "colab": {
          "base_uri": "https://localhost:8080/"
        },
        "id": "e25624f7",
        "outputId": "e4def4a8-2bb1-4fc7-88d9-f91a829a5ea7"
      },
      "outputs": [
        {
          "output_type": "stream",
          "name": "stdout",
          "text": [
            "Epoch 1/10\n"
          ]
        },
        {
          "output_type": "stream",
          "name": "stderr",
          "text": [
            "/usr/local/lib/python3.7/dist-packages/keras/optimizers/optimizer_v2/gradient_descent.py:108: UserWarning: The `lr` argument is deprecated, use `learning_rate` instead.\n",
            "  super(SGD, self).__init__(name, **kwargs)\n"
          ]
        },
        {
          "output_type": "stream",
          "name": "stdout",
          "text": [
            "858/858 [==============================] - 3s 3ms/step - loss: 3.0107 - accuracy: 0.1221\n",
            "Epoch 2/10\n",
            "858/858 [==============================] - 3s 3ms/step - loss: 1.8352 - accuracy: 0.4282\n",
            "Epoch 3/10\n",
            "858/858 [==============================] - 3s 3ms/step - loss: 0.9499 - accuracy: 0.7017\n",
            "Epoch 4/10\n",
            "858/858 [==============================] - 3s 3ms/step - loss: 0.4090 - accuracy: 0.8854\n",
            "Epoch 5/10\n",
            "858/858 [==============================] - 3s 3ms/step - loss: 0.1485 - accuracy: 0.9681\n",
            "Epoch 6/10\n",
            "858/858 [==============================] - 3s 3ms/step - loss: 0.0572 - accuracy: 0.9930\n",
            "Epoch 7/10\n",
            "858/858 [==============================] - 3s 3ms/step - loss: 0.0259 - accuracy: 0.9985\n",
            "Epoch 8/10\n",
            "858/858 [==============================] - 3s 3ms/step - loss: 0.0144 - accuracy: 0.9997\n",
            "Epoch 9/10\n",
            "858/858 [==============================] - 3s 3ms/step - loss: 0.0091 - accuracy: 0.9999\n",
            "Epoch 10/10\n",
            "858/858 [==============================] - 3s 3ms/step - loss: 0.0065 - accuracy: 1.0000\n"
          ]
        },
        {
          "output_type": "execute_result",
          "data": {
            "text/plain": [
              "<keras.callbacks.History at 0x7fab3e3f8d10>"
            ]
          },
          "metadata": {},
          "execution_count": 46
        }
      ],
      "source": [
        "tf.random.set_seed(123)\n",
        "\n",
        "model2.compile(optimizer=tf.keras.optimizers.SGD(lr=0.01),\n",
        "              loss=tf.keras.losses.sparse_categorical_crossentropy,\n",
        "              metrics=['accuracy']\n",
        "             )\n",
        "\n",
        "model2.fit(X_train_norm, y_train, epochs=10)\n"
      ]
    },
    {
      "cell_type": "code",
      "execution_count": 47,
      "id": "0c817f52",
      "metadata": {
        "id": "0c817f52"
      },
      "outputs": [],
      "source": [
        "model2.save('model2.h5')"
      ]
    },
    {
      "cell_type": "code",
      "execution_count": 48,
      "id": "1c5075a8",
      "metadata": {
        "id": "1c5075a8"
      },
      "outputs": [],
      "source": [
        "model2 = tf.keras.models.load_model('model2.h5')"
      ]
    },
    {
      "cell_type": "code",
      "execution_count": 49,
      "id": "491d82e0",
      "metadata": {
        "colab": {
          "base_uri": "https://localhost:8080/"
        },
        "id": "491d82e0",
        "outputId": "569d7182-a722-4927-e59c-d6c8afee6eff"
      },
      "outputs": [
        {
          "output_type": "stream",
          "name": "stdout",
          "text": [
            "225/225 [==============================] - 1s 2ms/step - loss: 0.3884 - accuracy: 0.9027\n"
          ]
        },
        {
          "output_type": "execute_result",
          "data": {
            "text/plain": [
              "[0.38840553164482117, 0.902677059173584]"
            ]
          },
          "metadata": {},
          "execution_count": 49
        }
      ],
      "source": [
        "model2.evaluate(X_test_norm, y_test)"
      ]
    },
    {
      "cell_type": "markdown",
      "id": "b51e809c",
      "metadata": {
        "id": "b51e809c"
      },
      "source": [
        "### Model 2\n",
        "* accuracy: 0.904\n",
        "* loss: 0.36"
      ]
    },
    {
      "cell_type": "code",
      "execution_count": 50,
      "id": "6d259602",
      "metadata": {
        "id": "6d259602",
        "outputId": "865f3fd4-30d6-4c99-8de1-827ea54c35f9",
        "colab": {
          "base_uri": "https://localhost:8080/"
        }
      },
      "outputs": [
        {
          "output_type": "stream",
          "name": "stdout",
          "text": [
            "Model: \"sequential_2\"\n",
            "_________________________________________________________________\n",
            " Layer (type)                Output Shape              Param #   \n",
            "=================================================================\n",
            " conv2d_3 (Conv2D)           (None, 26, 26, 32)        320       \n",
            "                                                                 \n",
            " max_pooling2d_3 (MaxPooling  (None, 13, 13, 32)       0         \n",
            " 2D)                                                             \n",
            "                                                                 \n",
            " conv2d_4 (Conv2D)           (None, 11, 11, 128)       36992     \n",
            "                                                                 \n",
            " max_pooling2d_4 (MaxPooling  (None, 5, 5, 128)        0         \n",
            " 2D)                                                             \n",
            "                                                                 \n",
            " flatten_2 (Flatten)         (None, 3200)              0         \n",
            "                                                                 \n",
            " dense_5 (Dense)             (None, 1024)              3277824   \n",
            "                                                                 \n",
            " dense_6 (Dense)             (None, 256)               262400    \n",
            "                                                                 \n",
            " dropout_2 (Dropout)         (None, 256)               0         \n",
            "                                                                 \n",
            " dense_7 (Dense)             (None, 25)                6425      \n",
            "                                                                 \n",
            "=================================================================\n",
            "Total params: 3,583,961\n",
            "Trainable params: 3,583,961\n",
            "Non-trainable params: 0\n",
            "_________________________________________________________________\n"
          ]
        }
      ],
      "source": [
        "model3 = tf.keras.Sequential([\n",
        "    tf.keras.layers.Conv2D(32,(3,3), activation='relu', input_shape=(28, 28, 1)),\n",
        "    tf.keras.layers.MaxPool2D((2,2)),\n",
        "    tf.keras.layers.Conv2D(128, (3,3), activation='relu'),\n",
        "    tf.keras.layers.MaxPool2D((2,2)),\n",
        "    tf.keras.layers.Flatten(),\n",
        "    tf.keras.layers.Dense(1024, activation='relu'),\n",
        "    tf.keras.layers.Dense(256, activation='relu'),\n",
        "    tf.keras.layers.Dropout(0),\n",
        "    tf.keras.layers.Dense(25, activation='sigmoid')\n",
        "])\n",
        "\n",
        "model3.summary()"
      ]
    },
    {
      "cell_type": "code",
      "execution_count": 52,
      "id": "ef5e3ffd",
      "metadata": {
        "id": "ef5e3ffd",
        "outputId": "14338a29-596b-496a-e003-f25a3d221d00",
        "colab": {
          "base_uri": "https://localhost:8080/"
        }
      },
      "outputs": [
        {
          "output_type": "stream",
          "name": "stdout",
          "text": [
            "Epoch 1/10\n",
            "858/858 [==============================] - 3s 3ms/step - loss: 3.1968 - accuracy: 0.0421\n",
            "Epoch 2/10\n",
            "858/858 [==============================] - 3s 3ms/step - loss: 3.1965 - accuracy: 0.0428\n",
            "Epoch 3/10\n",
            "858/858 [==============================] - 3s 3ms/step - loss: 3.1978 - accuracy: 0.0419\n",
            "Epoch 4/10\n",
            "858/858 [==============================] - 3s 3ms/step - loss: 3.1952 - accuracy: 0.0433\n",
            "Epoch 5/10\n",
            "858/858 [==============================] - 3s 3ms/step - loss: 3.1964 - accuracy: 0.0430\n",
            "Epoch 6/10\n",
            "858/858 [==============================] - 3s 3ms/step - loss: 3.1952 - accuracy: 0.0443\n",
            "Epoch 7/10\n",
            "858/858 [==============================] - 3s 3ms/step - loss: 3.1966 - accuracy: 0.0444\n",
            "Epoch 8/10\n",
            "858/858 [==============================] - 3s 3ms/step - loss: 3.1970 - accuracy: 0.0426\n",
            "Epoch 9/10\n",
            "858/858 [==============================] - 3s 3ms/step - loss: 3.1965 - accuracy: 0.0432\n",
            "Epoch 10/10\n",
            "858/858 [==============================] - 3s 3ms/step - loss: 3.1977 - accuracy: 0.0436\n"
          ]
        },
        {
          "output_type": "execute_result",
          "data": {
            "text/plain": [
              "<keras.callbacks.History at 0x7fab0f159510>"
            ]
          },
          "metadata": {},
          "execution_count": 52
        }
      ],
      "source": [
        "tf.random.set_seed(123)\n",
        "\n",
        "model3.compile(optimizer=tf.keras.optimizers.Adam(lr=0.1),\n",
        "              loss=tf.keras.losses.sparse_categorical_crossentropy,\n",
        "              metrics=['accuracy']\n",
        "             )\n",
        "\n",
        "\n",
        "model3.fit(X_train_norm, y_train, epochs=10)\n"
      ]
    },
    {
      "cell_type": "code",
      "execution_count": 53,
      "id": "bff4f1e5",
      "metadata": {
        "id": "bff4f1e5"
      },
      "outputs": [],
      "source": [
        "model3.save('model3.h5')"
      ]
    },
    {
      "cell_type": "code",
      "execution_count": 54,
      "id": "12117d69",
      "metadata": {
        "id": "12117d69",
        "outputId": "2f4588b3-19a5-4815-ab76-54832dee1442",
        "colab": {
          "base_uri": "https://localhost:8080/"
        }
      },
      "outputs": [
        {
          "output_type": "stream",
          "name": "stdout",
          "text": [
            "225/225 [==============================] - 1s 2ms/step - loss: 3.2455 - accuracy: 0.0343\n"
          ]
        },
        {
          "output_type": "execute_result",
          "data": {
            "text/plain": [
              "[3.2455098628997803, 0.0343000553548336]"
            ]
          },
          "metadata": {},
          "execution_count": 54
        }
      ],
      "source": [
        "model3.evaluate(X_test_norm, y_test)"
      ]
    },
    {
      "cell_type": "markdown",
      "id": "f4502816",
      "metadata": {
        "id": "f4502816"
      },
      "source": [
        "### Model 3\n",
        "* accuracy: 0.034\n",
        "* loss: 3.2544\n",
        "\n",
        "**Very Bad**"
      ]
    },
    {
      "cell_type": "code",
      "execution_count": 55,
      "id": "18887192",
      "metadata": {
        "id": "18887192",
        "outputId": "f478bec8-2ec7-484f-afd5-19e4cae4031b",
        "colab": {
          "base_uri": "https://localhost:8080/"
        }
      },
      "outputs": [
        {
          "output_type": "stream",
          "name": "stdout",
          "text": [
            "Model: \"sequential_3\"\n",
            "_________________________________________________________________\n",
            " Layer (type)                Output Shape              Param #   \n",
            "=================================================================\n",
            " conv2d_5 (Conv2D)           (None, 26, 26, 32)        320       \n",
            "                                                                 \n",
            " max_pooling2d_5 (MaxPooling  (None, 13, 13, 32)       0         \n",
            " 2D)                                                             \n",
            "                                                                 \n",
            " conv2d_6 (Conv2D)           (None, 11, 11, 128)       36992     \n",
            "                                                                 \n",
            " max_pooling2d_6 (MaxPooling  (None, 5, 5, 128)        0         \n",
            " 2D)                                                             \n",
            "                                                                 \n",
            " flatten_3 (Flatten)         (None, 3200)              0         \n",
            "                                                                 \n",
            " dense_8 (Dense)             (None, 500)               1600500   \n",
            "                                                                 \n",
            " dense_9 (Dense)             (None, 128)               64128     \n",
            "                                                                 \n",
            " dropout_3 (Dropout)         (None, 128)               0         \n",
            "                                                                 \n",
            " dense_10 (Dense)            (None, 25)                3225      \n",
            "                                                                 \n",
            "=================================================================\n",
            "Total params: 1,705,165\n",
            "Trainable params: 1,705,165\n",
            "Non-trainable params: 0\n",
            "_________________________________________________________________\n"
          ]
        }
      ],
      "source": [
        "model4 = tf.keras.Sequential([\n",
        "    tf.keras.layers.Conv2D(32,(3,3), activation='relu', input_shape=(28, 28, 1)),\n",
        "    tf.keras.layers.MaxPool2D((2,2)),\n",
        "    tf.keras.layers.Conv2D(128, (3,3), activation='relu'),\n",
        "    tf.keras.layers.MaxPool2D((2,2)),\n",
        "    tf.keras.layers.Flatten(),\n",
        "    tf.keras.layers.Dense(500, activation='relu'),\n",
        "    tf.keras.layers.Dense(128, activation='relu'),\n",
        "    tf.keras.layers.Dropout(0),\n",
        "    tf.keras.layers.Dense(25, activation='sigmoid')\n",
        "])\n",
        "\n",
        "model4.summary()"
      ]
    },
    {
      "cell_type": "code",
      "execution_count": 57,
      "id": "b1c675f8",
      "metadata": {
        "id": "b1c675f8",
        "outputId": "b88ad711-b11a-4bcd-9f86-f91145ac966c",
        "colab": {
          "base_uri": "https://localhost:8080/"
        }
      },
      "outputs": [
        {
          "output_type": "stream",
          "name": "stdout",
          "text": [
            "Epoch 1/10\n",
            "858/858 [==============================] - 3s 3ms/step - loss: 0.7853 - accuracy: 0.7539\n",
            "Epoch 2/10\n",
            "858/858 [==============================] - 3s 3ms/step - loss: 0.3426 - accuracy: 0.9019\n",
            "Epoch 3/10\n",
            "858/858 [==============================] - 3s 3ms/step - loss: 0.1344 - accuracy: 0.9713\n",
            "Epoch 4/10\n",
            "858/858 [==============================] - 3s 3ms/step - loss: 0.0553 - accuracy: 0.9932\n",
            "Epoch 5/10\n",
            "858/858 [==============================] - 3s 3ms/step - loss: 0.0253 - accuracy: 0.9992\n",
            "Epoch 6/10\n",
            "858/858 [==============================] - 3s 3ms/step - loss: 0.0143 - accuracy: 0.9997\n",
            "Epoch 7/10\n",
            "858/858 [==============================] - 3s 3ms/step - loss: 0.0094 - accuracy: 1.0000\n",
            "Epoch 8/10\n",
            "858/858 [==============================] - 3s 3ms/step - loss: 0.0067 - accuracy: 1.0000\n",
            "Epoch 9/10\n",
            "858/858 [==============================] - 3s 3ms/step - loss: 0.0053 - accuracy: 1.0000\n",
            "Epoch 10/10\n",
            "858/858 [==============================] - 3s 3ms/step - loss: 0.0042 - accuracy: 1.0000\n"
          ]
        },
        {
          "output_type": "execute_result",
          "data": {
            "text/plain": [
              "<keras.callbacks.History at 0x7faafa6f2ad0>"
            ]
          },
          "metadata": {},
          "execution_count": 57
        }
      ],
      "source": [
        "tf.random.set_seed(123)\n",
        "\n",
        "model4.compile(optimizer=tf.keras.optimizers.SGD(lr=0.01),\n",
        "              loss=tf.keras.losses.sparse_categorical_crossentropy,\n",
        "              metrics=['accuracy']\n",
        "             )\n",
        "\n",
        "model4.fit(X_train_norm, y_train, epochs=10)"
      ]
    },
    {
      "cell_type": "code",
      "execution_count": 58,
      "id": "fb3089d2",
      "metadata": {
        "id": "fb3089d2"
      },
      "outputs": [],
      "source": [
        "model4.save('model4.h5')"
      ]
    },
    {
      "cell_type": "code",
      "execution_count": 59,
      "id": "e8650fc5",
      "metadata": {
        "id": "e8650fc5"
      },
      "outputs": [],
      "source": [
        "model4 = tf.keras.models.load_model('model4.h5')"
      ]
    },
    {
      "cell_type": "code",
      "execution_count": 60,
      "id": "47bac65b",
      "metadata": {
        "id": "47bac65b",
        "outputId": "fde2f65e-300a-4de1-91f7-717a631d6552",
        "colab": {
          "base_uri": "https://localhost:8080/"
        }
      },
      "outputs": [
        {
          "output_type": "stream",
          "name": "stdout",
          "text": [
            "225/225 [==============================] - 1s 2ms/step - loss: 0.4359 - accuracy: 0.8760\n"
          ]
        },
        {
          "output_type": "execute_result",
          "data": {
            "text/plain": [
              "[0.43590235710144043, 0.8760457038879395]"
            ]
          },
          "metadata": {},
          "execution_count": 60
        }
      ],
      "source": [
        "model4.evaluate(X_test_norm, y_test)"
      ]
    },
    {
      "cell_type": "markdown",
      "id": "77299d49",
      "metadata": {
        "id": "77299d49"
      },
      "source": [
        "### Model 4\n",
        "* accuracy: 0.885\n",
        "* loss: 0.402"
      ]
    },
    {
      "cell_type": "code",
      "execution_count": 61,
      "id": "51ffdbc8",
      "metadata": {
        "colab": {
          "base_uri": "https://localhost:8080/"
        },
        "id": "51ffdbc8",
        "outputId": "238cf424-62e5-44b8-b2a2-2a13d9a7cc89"
      },
      "outputs": [
        {
          "output_type": "stream",
          "name": "stdout",
          "text": [
            "Model: \"sequential_4\"\n",
            "_________________________________________________________________\n",
            " Layer (type)                Output Shape              Param #   \n",
            "=================================================================\n",
            " conv2d_7 (Conv2D)           (None, 26, 26, 32)        320       \n",
            "                                                                 \n",
            " max_pooling2d_7 (MaxPooling  (None, 13, 13, 32)       0         \n",
            " 2D)                                                             \n",
            "                                                                 \n",
            " conv2d_8 (Conv2D)           (None, 11, 11, 128)       36992     \n",
            "                                                                 \n",
            " max_pooling2d_8 (MaxPooling  (None, 5, 5, 128)        0         \n",
            " 2D)                                                             \n",
            "                                                                 \n",
            " flatten_4 (Flatten)         (None, 3200)              0         \n",
            "                                                                 \n",
            " dense_11 (Dense)            (None, 1024)              3277824   \n",
            "                                                                 \n",
            " dense_12 (Dense)            (None, 256)               262400    \n",
            "                                                                 \n",
            " dropout_4 (Dropout)         (None, 256)               0         \n",
            "                                                                 \n",
            " dense_13 (Dense)            (None, 25)                6425      \n",
            "                                                                 \n",
            "=================================================================\n",
            "Total params: 3,583,961\n",
            "Trainable params: 3,583,961\n",
            "Non-trainable params: 0\n",
            "_________________________________________________________________\n"
          ]
        }
      ],
      "source": [
        "model5 = tf.keras.Sequential([\n",
        "    tf.keras.layers.Conv2D(32,(3,3), activation='relu', input_shape=(28, 28, 1)),\n",
        "    tf.keras.layers.MaxPool2D((2,2)),\n",
        "    tf.keras.layers.Conv2D(128, (3,3), activation='relu'),\n",
        "    tf.keras.layers.MaxPool2D((2,2)),\n",
        "    tf.keras.layers.Flatten(),\n",
        "    tf.keras.layers.Dense(1024, activation='relu'),\n",
        "    tf.keras.layers.Dense(256, activation='relu'),\n",
        "    tf.keras.layers.Dropout(0),\n",
        "    tf.keras.layers.Dense(25, activation='sigmoid')\n",
        "])\n",
        "\n",
        "model5.summary()"
      ]
    },
    {
      "cell_type": "code",
      "execution_count": 62,
      "id": "9a306dc1",
      "metadata": {
        "colab": {
          "base_uri": "https://localhost:8080/"
        },
        "id": "9a306dc1",
        "outputId": "7e18fbe9-346b-4dda-cbc3-98d84344450d"
      },
      "outputs": [
        {
          "output_type": "stream",
          "name": "stdout",
          "text": [
            "Epoch 1/7\n",
            "858/858 [==============================] - 3s 3ms/step - loss: 3.0447 - accuracy: 0.1149\n",
            "Epoch 2/7\n",
            "858/858 [==============================] - 3s 3ms/step - loss: 1.8704 - accuracy: 0.4220\n",
            "Epoch 3/7\n",
            "858/858 [==============================] - 3s 3ms/step - loss: 0.8925 - accuracy: 0.7239\n",
            "Epoch 4/7\n",
            "858/858 [==============================] - 3s 3ms/step - loss: 0.3675 - accuracy: 0.8979\n",
            "Epoch 5/7\n",
            "858/858 [==============================] - 3s 3ms/step - loss: 0.1322 - accuracy: 0.9735\n",
            "Epoch 6/7\n",
            "858/858 [==============================] - 3s 3ms/step - loss: 0.0515 - accuracy: 0.9939\n",
            "Epoch 7/7\n",
            "858/858 [==============================] - 3s 3ms/step - loss: 0.0233 - accuracy: 0.9993\n"
          ]
        },
        {
          "output_type": "execute_result",
          "data": {
            "text/plain": [
              "<keras.callbacks.History at 0x7faafb1cfcd0>"
            ]
          },
          "metadata": {},
          "execution_count": 62
        }
      ],
      "source": [
        "tf.random.set_seed(123)\n",
        "\n",
        "model5.compile(optimizer=tf.keras.optimizers.SGD(lr=0.01),\n",
        "              loss=tf.keras.losses.sparse_categorical_crossentropy,\n",
        "              metrics=['accuracy']\n",
        "             )\n",
        "\n",
        "model5.fit(X_train_norm, y_train, epochs=7)\n"
      ]
    },
    {
      "cell_type": "code",
      "execution_count": 63,
      "id": "4753435f",
      "metadata": {
        "id": "4753435f"
      },
      "outputs": [],
      "source": [
        "model5.save('model5.h5')"
      ]
    },
    {
      "cell_type": "code",
      "execution_count": 64,
      "id": "b514ced7",
      "metadata": {
        "id": "b514ced7"
      },
      "outputs": [],
      "source": [
        "model5 = tf.keras.models.load_model('model5.h5')"
      ]
    },
    {
      "cell_type": "code",
      "execution_count": 65,
      "id": "2ac15e4b",
      "metadata": {
        "colab": {
          "base_uri": "https://localhost:8080/"
        },
        "id": "2ac15e4b",
        "outputId": "df664c1a-c690-41a0-a9ee-54756fb98172"
      },
      "outputs": [
        {
          "output_type": "stream",
          "name": "stdout",
          "text": [
            "225/225 [==============================] - 1s 2ms/step - loss: 0.3804 - accuracy: 0.8834\n"
          ]
        },
        {
          "output_type": "execute_result",
          "data": {
            "text/plain": [
              "[0.3804289698600769, 0.8834356069564819]"
            ]
          },
          "metadata": {},
          "execution_count": 65
        }
      ],
      "source": [
        "model5.evaluate(X_test_norm, y_test)"
      ]
    },
    {
      "cell_type": "markdown",
      "id": "38416d66",
      "metadata": {
        "id": "38416d66"
      },
      "source": [
        "### Model 5\n",
        "* accuracy: 0.8844\n",
        "* loss: 0.3771"
      ]
    },
    {
      "cell_type": "code",
      "execution_count": 66,
      "id": "3c421308",
      "metadata": {
        "id": "3c421308",
        "outputId": "523b7a77-0883-4b63-cbf9-fe5860354894",
        "colab": {
          "base_uri": "https://localhost:8080/"
        }
      },
      "outputs": [
        {
          "output_type": "stream",
          "name": "stdout",
          "text": [
            "Model: \"sequential_5\"\n",
            "_________________________________________________________________\n",
            " Layer (type)                Output Shape              Param #   \n",
            "=================================================================\n",
            " conv2d_9 (Conv2D)           (None, 26, 26, 32)        320       \n",
            "                                                                 \n",
            " max_pooling2d_9 (MaxPooling  (None, 13, 13, 32)       0         \n",
            " 2D)                                                             \n",
            "                                                                 \n",
            " conv2d_10 (Conv2D)          (None, 11, 11, 128)       36992     \n",
            "                                                                 \n",
            " max_pooling2d_10 (MaxPoolin  (None, 5, 5, 128)        0         \n",
            " g2D)                                                            \n",
            "                                                                 \n",
            " flatten_5 (Flatten)         (None, 3200)              0         \n",
            "                                                                 \n",
            " dense_14 (Dense)            (None, 750)               2400750   \n",
            "                                                                 \n",
            " dense_15 (Dense)            (None, 256)               192256    \n",
            "                                                                 \n",
            " dropout_5 (Dropout)         (None, 256)               0         \n",
            "                                                                 \n",
            " dense_16 (Dense)            (None, 25)                6425      \n",
            "                                                                 \n",
            "=================================================================\n",
            "Total params: 2,636,743\n",
            "Trainable params: 2,636,743\n",
            "Non-trainable params: 0\n",
            "_________________________________________________________________\n"
          ]
        }
      ],
      "source": [
        "model6 = tf.keras.Sequential([\n",
        "    tf.keras.layers.Conv2D(32,(3,3), activation='relu', input_shape=(28, 28, 1)),\n",
        "    tf.keras.layers.MaxPool2D((2,2)),\n",
        "    tf.keras.layers.Conv2D(128, (3,3), activation='relu'),\n",
        "    tf.keras.layers.MaxPool2D((2,2)),\n",
        "    tf.keras.layers.Flatten(),\n",
        "    tf.keras.layers.Dense(750, activation='relu'),\n",
        "    tf.keras.layers.Dense(256, activation='relu'),\n",
        "    tf.keras.layers.Dropout(0),\n",
        "    tf.keras.layers.Dense(25, activation='sigmoid')\n",
        "])\n",
        "\n",
        "model6.summary()"
      ]
    },
    {
      "cell_type": "code",
      "execution_count": 67,
      "id": "45633ca4",
      "metadata": {
        "id": "45633ca4",
        "outputId": "36db5109-2049-4dbb-8c08-3f44d8ef316d",
        "colab": {
          "base_uri": "https://localhost:8080/"
        }
      },
      "outputs": [
        {
          "output_type": "stream",
          "name": "stdout",
          "text": [
            "Epoch 1/10\n",
            "858/858 [==============================] - 3s 3ms/step - loss: 3.0405 - accuracy: 0.1226\n",
            "Epoch 2/10\n",
            "858/858 [==============================] - 3s 3ms/step - loss: 1.8860 - accuracy: 0.4155\n",
            "Epoch 3/10\n",
            "858/858 [==============================] - 3s 3ms/step - loss: 0.9701 - accuracy: 0.6959\n",
            "Epoch 4/10\n",
            "858/858 [==============================] - 3s 3ms/step - loss: 0.4275 - accuracy: 0.8773\n",
            "Epoch 5/10\n",
            "858/858 [==============================] - 3s 3ms/step - loss: 0.1590 - accuracy: 0.9648\n",
            "Epoch 6/10\n",
            "858/858 [==============================] - 3s 3ms/step - loss: 0.0627 - accuracy: 0.9917\n",
            "Epoch 7/10\n",
            "858/858 [==============================] - 3s 3ms/step - loss: 0.0295 - accuracy: 0.9978\n",
            "Epoch 8/10\n",
            "858/858 [==============================] - 3s 3ms/step - loss: 0.0155 - accuracy: 0.9996\n",
            "Epoch 9/10\n",
            "858/858 [==============================] - 3s 3ms/step - loss: 0.0101 - accuracy: 0.9998\n",
            "Epoch 10/10\n",
            "858/858 [==============================] - 3s 3ms/step - loss: 0.0071 - accuracy: 1.0000\n"
          ]
        },
        {
          "output_type": "execute_result",
          "data": {
            "text/plain": [
              "<keras.callbacks.History at 0x7faafb0d5310>"
            ]
          },
          "metadata": {},
          "execution_count": 67
        }
      ],
      "source": [
        "tf.random.set_seed(123)\n",
        "\n",
        "model6.compile(optimizer=tf.keras.optimizers.SGD(lr=0.01),\n",
        "              loss=tf.keras.losses.sparse_categorical_crossentropy,\n",
        "              metrics=['accuracy']\n",
        "             )\n",
        "\n",
        "model6.fit(X_train_norm, y_train, epochs=10)\n"
      ]
    },
    {
      "cell_type": "code",
      "execution_count": 68,
      "id": "40004b0b",
      "metadata": {
        "id": "40004b0b"
      },
      "outputs": [],
      "source": [
        "model6.save('model6.h5')"
      ]
    },
    {
      "cell_type": "code",
      "execution_count": 69,
      "id": "520cede2",
      "metadata": {
        "id": "520cede2"
      },
      "outputs": [],
      "source": [
        "model6 = tf.keras.models.load_model('model6.h5')"
      ]
    },
    {
      "cell_type": "code",
      "execution_count": 70,
      "id": "3aab25b4",
      "metadata": {
        "id": "3aab25b4",
        "outputId": "cc495292-7911-4147-c9ae-1c076f1b540f",
        "colab": {
          "base_uri": "https://localhost:8080/"
        }
      },
      "outputs": [
        {
          "output_type": "stream",
          "name": "stdout",
          "text": [
            "225/225 [==============================] - 1s 2ms/step - loss: 0.3521 - accuracy: 0.9063\n"
          ]
        },
        {
          "output_type": "execute_result",
          "data": {
            "text/plain": [
              "[0.3520849645137787, 0.906302273273468]"
            ]
          },
          "metadata": {},
          "execution_count": 70
        }
      ],
      "source": [
        "model6.evaluate(X_test_norm, y_test)"
      ]
    },
    {
      "cell_type": "markdown",
      "id": "76155138",
      "metadata": {
        "id": "76155138"
      },
      "source": [
        "### Checking Precision and Recall\n",
        "\n",
        "* **Precision** = `TP / (TP + FP)`\n",
        "* **Recall** = `TP / (TP + FN)`"
      ]
    },
    {
      "cell_type": "code",
      "execution_count": null,
      "id": "d0f783c9",
      "metadata": {
        "colab": {
          "base_uri": "https://localhost:8080/"
        },
        "id": "d0f783c9",
        "outputId": "c25b1a55-3cad-415f-b89e-f48dd5fa62aa"
      },
      "outputs": [
        {
          "output_type": "execute_result",
          "data": {
            "text/plain": [
              "array([ 6,  5, 10, ...,  2,  4,  2])"
            ]
          },
          "metadata": {},
          "execution_count": 47
        }
      ],
      "source": [
        "y_test"
      ]
    },
    {
      "cell_type": "code",
      "execution_count": null,
      "id": "475d1d60",
      "metadata": {
        "colab": {
          "base_uri": "https://localhost:8080/"
        },
        "id": "475d1d60",
        "outputId": "1b7b9edd-9878-4319-bf6e-c56abff8cb26"
      },
      "outputs": [
        {
          "output_type": "stream",
          "name": "stdout",
          "text": [
            "225/225 [==============================] - 1s 2ms/step\n"
          ]
        }
      ],
      "source": [
        "prediction2 = model2.predict(X_test_norm)"
      ]
    },
    {
      "cell_type": "code",
      "execution_count": null,
      "id": "536b2994",
      "metadata": {
        "id": "536b2994"
      },
      "outputs": [],
      "source": [
        "results2 = np.array([], dtype='int32')\n",
        "for pred in prediction2:\n",
        "    p = np.argmax(pred)\n",
        "    results2 = np.append(results2, p)"
      ]
    },
    {
      "cell_type": "code",
      "execution_count": null,
      "id": "34660847",
      "metadata": {
        "colab": {
          "base_uri": "https://localhost:8080/"
        },
        "id": "34660847",
        "outputId": "0ac2766f-1b04-43a2-a659-28fe535d3954"
      },
      "outputs": [
        {
          "output_type": "execute_result",
          "data": {
            "text/plain": [
              "array([ 6,  5, 10, ...,  2,  1,  2])"
            ]
          },
          "metadata": {},
          "execution_count": 50
        }
      ],
      "source": [
        "results2"
      ]
    },
    {
      "cell_type": "code",
      "execution_count": null,
      "id": "4e573798",
      "metadata": {
        "colab": {
          "base_uri": "https://localhost:8080/"
        },
        "id": "4e573798",
        "outputId": "f9ea5fca-0e79-4391-ad6a-8c09840acec2"
      },
      "outputs": [
        {
          "output_type": "execute_result",
          "data": {
            "text/plain": [
              "(7172,)"
            ]
          },
          "metadata": {},
          "execution_count": 51
        }
      ],
      "source": [
        "y_test.shape"
      ]
    },
    {
      "cell_type": "code",
      "execution_count": null,
      "id": "cc1299eb",
      "metadata": {
        "colab": {
          "base_uri": "https://localhost:8080/"
        },
        "id": "cc1299eb",
        "outputId": "e0afd1f6-8dba-408d-b8ec-0c1b0629da23"
      },
      "outputs": [
        {
          "output_type": "execute_result",
          "data": {
            "text/plain": [
              "(7172,)"
            ]
          },
          "metadata": {},
          "execution_count": 52
        }
      ],
      "source": [
        "results2.shape"
      ]
    },
    {
      "cell_type": "code",
      "source": [
        "prediction5 = model5.predict(X_test_norm)\n",
        "results5 = np.array([], dtype='int32')\n",
        "for pred in prediction5:\n",
        "    p = np.argmax(pred)\n",
        "    results5 = np.append(results5, p)"
      ],
      "metadata": {
        "colab": {
          "base_uri": "https://localhost:8080/"
        },
        "id": "3yYjwjao0Bhw",
        "outputId": "50485cec-8fa9-4228-c1e6-ac59eee2bd2e"
      },
      "id": "3yYjwjao0Bhw",
      "execution_count": null,
      "outputs": [
        {
          "output_type": "stream",
          "name": "stdout",
          "text": [
            "225/225 [==============================] - 0s 2ms/step\n"
          ]
        }
      ]
    },
    {
      "cell_type": "code",
      "source": [
        "results5"
      ],
      "metadata": {
        "colab": {
          "base_uri": "https://localhost:8080/"
        },
        "id": "tMi7o0IY0OcK",
        "outputId": "37b7bbfb-0657-4b49-8c8e-37f10b3f1419"
      },
      "id": "tMi7o0IY0OcK",
      "execution_count": null,
      "outputs": [
        {
          "output_type": "execute_result",
          "data": {
            "text/plain": [
              "array([ 6,  5, 10, ...,  2,  4,  2])"
            ]
          },
          "metadata": {},
          "execution_count": 54
        }
      ]
    },
    {
      "cell_type": "code",
      "execution_count": null,
      "id": "4036d09d",
      "metadata": {
        "id": "4036d09d"
      },
      "outputs": [],
      "source": [
        "from sklearn.metrics import precision_score, recall_score, accuracy_score"
      ]
    },
    {
      "cell_type": "code",
      "execution_count": null,
      "id": "d084a8db",
      "metadata": {
        "colab": {
          "base_uri": "https://localhost:8080/",
          "height": 281
        },
        "id": "d084a8db",
        "outputId": "a29370a1-1f44-4f7a-bcf8-bae0ef277244"
      },
      "outputs": [
        {
          "output_type": "display_data",
          "data": {
            "text/plain": [
              "<Figure size 432x288 with 1 Axes>"
            ],
            "image/png": "[encoded data removed]"
          },
          "metadata": {
            "needs_background": "light"
          }
        }
      ],
      "source": [
        "accuracy2 = accuracy_score(y_test, results2)\n",
        "plt.bar(target_values, accuracy2)\n",
        "plt.title('Accuracy Score model2')\n",
        "plt.show()"
      ]
    },
    {
      "cell_type": "code",
      "execution_count": null,
      "id": "0b5659ac",
      "metadata": {
        "colab": {
          "base_uri": "https://localhost:8080/"
        },
        "id": "0b5659ac",
        "outputId": "cbb0c6cf-5ed0-457d-ceaa-9354e0d02dce"
      },
      "outputs": [
        {
          "output_type": "execute_result",
          "data": {
            "text/plain": [
              "0.7268544339096487"
            ]
          },
          "metadata": {},
          "execution_count": 57
        }
      ],
      "source": [
        "accuracy2"
      ]
    },
    {
      "cell_type": "code",
      "source": [
        "accuracy5 = accuracy_score(y_test, results5)\n",
        "plt.bar(target_values, accuracy5)\n",
        "plt.title('Accuracy Score model5')\n",
        "plt.show()"
      ],
      "metadata": {
        "colab": {
          "base_uri": "https://localhost:8080/",
          "height": 281
        },
        "id": "99wZFLSr0aWl",
        "outputId": "440f4ddd-37e6-4d56-e9f0-df9386ac184c"
      },
      "id": "99wZFLSr0aWl",
      "execution_count": null,
      "outputs": [
        {
          "output_type": "display_data",
          "data": {
            "text/plain": [
              "<Figure size 432x288 with 1 Axes>"
            ],
            "image/png": "[encoded data removed]"
          },
          "metadata": {
            "needs_background": "light"
          }
        }
      ]
    },
    {
      "cell_type": "code",
      "source": [
        "accuracy5"
      ],
      "metadata": {
        "colab": {
          "base_uri": "https://localhost:8080/"
        },
        "id": "GiryZMpn0gRn",
        "outputId": "677b0589-0cb3-49a9-b37f-9c7ab9db5e81"
      },
      "id": "GiryZMpn0gRn",
      "execution_count": null,
      "outputs": [
        {
          "output_type": "execute_result",
          "data": {
            "text/plain": [
              "0.8402119353039599"
            ]
          },
          "metadata": {},
          "execution_count": 59
        }
      ]
    },
    {
      "cell_type": "code",
      "execution_count": null,
      "id": "5440130c",
      "metadata": {
        "colab": {
          "base_uri": "https://localhost:8080/",
          "height": 281
        },
        "id": "5440130c",
        "outputId": "0ef82b6c-f0b5-41ff-b08b-7927fbe4ea73"
      },
      "outputs": [
        {
          "output_type": "display_data",
          "data": {
            "text/plain": [
              "<Figure size 432x288 with 1 Axes>"
            ],
            "image/png": "[encoded data removed]"
          },
          "metadata": {
            "needs_background": "light"
          }
        }
      ],
      "source": [
        "precision2 = precision_score(y_test, results2, average=None)\n",
        "plt.bar(target_values, precision2)\n",
        "plt.title('Precision Score model2')\n",
        "plt.show()"
      ]
    },
    {
      "cell_type": "code",
      "execution_count": null,
      "id": "834a3011",
      "metadata": {
        "colab": {
          "base_uri": "https://localhost:8080/"
        },
        "id": "834a3011",
        "outputId": "2154d9b5-2f78-42bb-a54c-76b7ac5d3e4e"
      },
      "outputs": [
        {
          "output_type": "execute_result",
          "data": {
            "text/plain": [
              "0.732537524862094"
            ]
          },
          "metadata": {},
          "execution_count": 61
        }
      ],
      "source": [
        "np.average(precision2)"
      ]
    },
    {
      "cell_type": "code",
      "source": [
        "precision5 = precision_score(y_test, results5, average=None)\n",
        "plt.bar(target_values, precision5)\n",
        "plt.title('Precision Score model5')\n",
        "plt.show()"
      ],
      "metadata": {
        "colab": {
          "base_uri": "https://localhost:8080/",
          "height": 281
        },
        "id": "hPw4wyXf0zCW",
        "outputId": "380174e6-f731-4d0a-d2b6-0387ea27b459"
      },
      "id": "hPw4wyXf0zCW",
      "execution_count": null,
      "outputs": [
        {
          "output_type": "display_data",
          "data": {
            "text/plain": [
              "<Figure size 432x288 with 1 Axes>"
            ],
            "image/png": "[encoded data removed]"
          },
          "metadata": {
            "needs_background": "light"
          }
        }
      ]
    },
    {
      "cell_type": "code",
      "source": [
        "np.average(precision5)"
      ],
      "metadata": {
        "colab": {
          "base_uri": "https://localhost:8080/"
        },
        "id": "zHUF4e2A04Dd",
        "outputId": "214e3827-58a1-4152-8bdd-dd0b8fe50da8"
      },
      "id": "zHUF4e2A04Dd",
      "execution_count": null,
      "outputs": [
        {
          "output_type": "execute_result",
          "data": {
            "text/plain": [
              "0.83375401585167"
            ]
          },
          "metadata": {},
          "execution_count": 63
        }
      ]
    },
    {
      "cell_type": "code",
      "execution_count": null,
      "id": "1b76ec91",
      "metadata": {
        "colab": {
          "base_uri": "https://localhost:8080/",
          "height": 281
        },
        "id": "1b76ec91",
        "outputId": "e772195d-92bf-4ebd-f7f4-4cf1b6a3409f"
      },
      "outputs": [
        {
          "output_type": "display_data",
          "data": {
            "text/plain": [
              "<Figure size 432x288 with 1 Axes>"
            ],
            "image/png": "[encoded data removed]"
          },
          "metadata": {
            "needs_background": "light"
          }
        }
      ],
      "source": [
        "recall2 = recall_score(y_test, results2, average=None)\n",
        "plt.bar(target_values, recall2)\n",
        "plt.title('Recall Score model2')\n",
        "plt.show()"
      ]
    },
    {
      "cell_type": "code",
      "execution_count": null,
      "id": "f1967887",
      "metadata": {
        "colab": {
          "base_uri": "https://localhost:8080/"
        },
        "id": "f1967887",
        "outputId": "4cfc47b8-042f-4da1-96f7-82950b25ed0b"
      },
      "outputs": [
        {
          "output_type": "execute_result",
          "data": {
            "text/plain": [
              "0.7051545692306789"
            ]
          },
          "metadata": {},
          "execution_count": 65
        }
      ],
      "source": [
        "np.average(recall2)"
      ]
    },
    {
      "cell_type": "code",
      "source": [
        "recall5 = recall_score(y_test, results5, average=None)\n",
        "plt.bar(target_values, recall5)\n",
        "plt.title('Recall Score model5')\n",
        "plt.show()"
      ],
      "metadata": {
        "colab": {
          "base_uri": "https://localhost:8080/",
          "height": 281
        },
        "id": "FOVNV_af1MHn",
        "outputId": "550a50da-d7c6-46c2-d099-d6fc9d5c35b5"
      },
      "id": "FOVNV_af1MHn",
      "execution_count": null,
      "outputs": [
        {
          "output_type": "display_data",
          "data": {
            "text/plain": [
              "<Figure size 432x288 with 1 Axes>"
            ],
            "image/png": "[encoded data removed]"
          },
          "metadata": {
            "needs_background": "light"
          }
        }
      ]
    },
    {
      "cell_type": "code",
      "source": [
        "np.average(recall5)"
      ],
      "metadata": {
        "colab": {
          "base_uri": "https://localhost:8080/"
        },
        "id": "4L7QaMsa1UAX",
        "outputId": "44a3da08-adf4-4888-b2fa-0d0375a66f83"
      },
      "id": "4L7QaMsa1UAX",
      "execution_count": null,
      "outputs": [
        {
          "output_type": "execute_result",
          "data": {
            "text/plain": [
              "0.8239936050424443"
            ]
          },
          "metadata": {},
          "execution_count": 67
        }
      ]
    },
    {
      "cell_type": "markdown",
      "source": [
        "values = np.array(['A', 'B', 'C', 'D', 'E', 'F', 'G', 'H', 'I', 'J', 'K', 'L', 'M', 'N', 'O', 'P', 'Q', 'R', 'S', 'T', 'U', 'V', 'W', 'X', 'Y', 'Z'])\n",
        "values.shape"
      ],
      "metadata": {
        "id": "9d3493eb"
      },
      "id": "9d3493eb"
    },
    {
      "cell_type": "markdown",
      "source": [
        "target_values"
      ],
      "metadata": {
        "id": "8d2d822f"
      },
      "id": "8d2d822f"
    },
    {
      "cell_type": "markdown",
      "source": [
        "values[target_values]"
      ],
      "metadata": {
        "id": "59131e91"
      },
      "id": "59131e91"
    },
    {
      "cell_type": "markdown",
      "source": [
        "target_values.shape"
      ],
      "metadata": {
        "id": "0e70c6d7"
      },
      "id": "0e70c6d7"
    },
    {
      "cell_type": "markdown",
      "source": [
        "i = 157\n",
        "plt.imshow(X_test[i])"
      ],
      "metadata": {
        "id": "a21b088b"
      },
      "id": "a21b088b"
    },
    {
      "cell_type": "markdown",
      "source": [
        "values[y_test[i]], y_test[i]"
      ],
      "metadata": {
        "id": "b978eb02"
      },
      "id": "b978eb02"
    },
    {
      "cell_type": "markdown",
      "source": [
        "values[np.argmax(model2.predict(X_test_norm[i:i+1]))]"
      ],
      "metadata": {
        "id": "1e98a5fd"
      },
      "id": "1e98a5fd"
    },
    {
      "cell_type": "markdown",
      "source": [
        "np.where(y_test == 10)[0][7]"
      ],
      "metadata": {
        "id": "0377975c"
      },
      "id": "0377975c"
    },
    {
      "cell_type": "markdown",
      "source": [
        "## Ensembling the models"
      ],
      "metadata": {
        "id": "7CSLfKMmUdHE"
      },
      "id": "7CSLfKMmUdHE"
    },
    {
      "cell_type": "code",
      "source": [
        "model1.summary()"
      ],
      "metadata": {
        "colab": {
          "base_uri": "https://localhost:8080/"
        },
        "id": "PzCZI7qIUhbx",
        "outputId": "1aafde3e-e298-41bd-af51-441ae2580483"
      },
      "id": "PzCZI7qIUhbx",
      "execution_count": 71,
      "outputs": [
        {
          "output_type": "stream",
          "name": "stdout",
          "text": [
            "Model: \"sequential\"\n",
            "_________________________________________________________________\n",
            " Layer (type)                Output Shape              Param #   \n",
            "=================================================================\n",
            " conv2d (Conv2D)             (None, 26, 26, 32)        320       \n",
            "                                                                 \n",
            " max_pooling2d (MaxPooling2D  (None, 13, 13, 32)       0         \n",
            " )                                                               \n",
            "                                                                 \n",
            " flatten (Flatten)           (None, 5408)              0         \n",
            "                                                                 \n",
            " dense (Dense)               (None, 1024)              5538816   \n",
            "                                                                 \n",
            " dropout (Dropout)           (None, 1024)              0         \n",
            "                                                                 \n",
            " dense_1 (Dense)             (None, 2)                 2050      \n",
            "                                                                 \n",
            "=================================================================\n",
            "Total params: 5,541,186\n",
            "Trainable params: 5,541,186\n",
            "Non-trainable params: 0\n",
            "_________________________________________________________________\n"
          ]
        }
      ]
    },
    {
      "cell_type": "code",
      "source": [
        "model2.summary()"
      ],
      "metadata": {
        "colab": {
          "base_uri": "https://localhost:8080/"
        },
        "id": "wDf44WIqU7oI",
        "outputId": "41d1e409-37fd-4f76-a367-b0c317bad89e"
      },
      "id": "wDf44WIqU7oI",
      "execution_count": 72,
      "outputs": [
        {
          "output_type": "stream",
          "name": "stdout",
          "text": [
            "Model: \"sequential_1\"\n",
            "_________________________________________________________________\n",
            " Layer (type)                Output Shape              Param #   \n",
            "=================================================================\n",
            " conv2d_1 (Conv2D)           (None, 26, 26, 32)        320       \n",
            "                                                                 \n",
            " max_pooling2d_1 (MaxPooling  (None, 13, 13, 32)       0         \n",
            " 2D)                                                             \n",
            "                                                                 \n",
            " conv2d_2 (Conv2D)           (None, 11, 11, 128)       36992     \n",
            "                                                                 \n",
            " max_pooling2d_2 (MaxPooling  (None, 5, 5, 128)        0         \n",
            " 2D)                                                             \n",
            "                                                                 \n",
            " flatten_1 (Flatten)         (None, 3200)              0         \n",
            "                                                                 \n",
            " dense_2 (Dense)             (None, 1024)              3277824   \n",
            "                                                                 \n",
            " dense_3 (Dense)             (None, 256)               262400    \n",
            "                                                                 \n",
            " dropout_1 (Dropout)         (None, 256)               0         \n",
            "                                                                 \n",
            " dense_4 (Dense)             (None, 25)                6425      \n",
            "                                                                 \n",
            "=================================================================\n",
            "Total params: 3,583,961\n",
            "Trainable params: 3,583,961\n",
            "Non-trainable params: 0\n",
            "_________________________________________________________________\n"
          ]
        }
      ]
    },
    {
      "cell_type": "code",
      "source": [
        "model4.summary()"
      ],
      "metadata": {
        "colab": {
          "base_uri": "https://localhost:8080/"
        },
        "id": "VpksiE6PU9wW",
        "outputId": "dce11239-84c1-4e40-bc3d-1fa28909cdd1"
      },
      "id": "VpksiE6PU9wW",
      "execution_count": 73,
      "outputs": [
        {
          "output_type": "stream",
          "name": "stdout",
          "text": [
            "Model: \"sequential_3\"\n",
            "_________________________________________________________________\n",
            " Layer (type)                Output Shape              Param #   \n",
            "=================================================================\n",
            " conv2d_5 (Conv2D)           (None, 26, 26, 32)        320       \n",
            "                                                                 \n",
            " max_pooling2d_5 (MaxPooling  (None, 13, 13, 32)       0         \n",
            " 2D)                                                             \n",
            "                                                                 \n",
            " conv2d_6 (Conv2D)           (None, 11, 11, 128)       36992     \n",
            "                                                                 \n",
            " max_pooling2d_6 (MaxPooling  (None, 5, 5, 128)        0         \n",
            " 2D)                                                             \n",
            "                                                                 \n",
            " flatten_3 (Flatten)         (None, 3200)              0         \n",
            "                                                                 \n",
            " dense_8 (Dense)             (None, 500)               1600500   \n",
            "                                                                 \n",
            " dense_9 (Dense)             (None, 128)               64128     \n",
            "                                                                 \n",
            " dropout_3 (Dropout)         (None, 128)               0         \n",
            "                                                                 \n",
            " dense_10 (Dense)            (None, 25)                3225      \n",
            "                                                                 \n",
            "=================================================================\n",
            "Total params: 1,705,165\n",
            "Trainable params: 1,705,165\n",
            "Non-trainable params: 0\n",
            "_________________________________________________________________\n"
          ]
        }
      ]
    },
    {
      "cell_type": "code",
      "source": [
        "model5.summary()"
      ],
      "metadata": {
        "colab": {
          "base_uri": "https://localhost:8080/"
        },
        "id": "dt4PEJCIVNCL",
        "outputId": "30e5eb29-6d61-419b-ca12-c2d0cc1bf0ae"
      },
      "id": "dt4PEJCIVNCL",
      "execution_count": 74,
      "outputs": [
        {
          "output_type": "stream",
          "name": "stdout",
          "text": [
            "Model: \"sequential_4\"\n",
            "_________________________________________________________________\n",
            " Layer (type)                Output Shape              Param #   \n",
            "=================================================================\n",
            " conv2d_7 (Conv2D)           (None, 26, 26, 32)        320       \n",
            "                                                                 \n",
            " max_pooling2d_7 (MaxPooling  (None, 13, 13, 32)       0         \n",
            " 2D)                                                             \n",
            "                                                                 \n",
            " conv2d_8 (Conv2D)           (None, 11, 11, 128)       36992     \n",
            "                                                                 \n",
            " max_pooling2d_8 (MaxPooling  (None, 5, 5, 128)        0         \n",
            " 2D)                                                             \n",
            "                                                                 \n",
            " flatten_4 (Flatten)         (None, 3200)              0         \n",
            "                                                                 \n",
            " dense_11 (Dense)            (None, 1024)              3277824   \n",
            "                                                                 \n",
            " dense_12 (Dense)            (None, 256)               262400    \n",
            "                                                                 \n",
            " dropout_4 (Dropout)         (None, 256)               0         \n",
            "                                                                 \n",
            " dense_13 (Dense)            (None, 25)                6425      \n",
            "                                                                 \n",
            "=================================================================\n",
            "Total params: 3,583,961\n",
            "Trainable params: 3,583,961\n",
            "Non-trainable params: 0\n",
            "_________________________________________________________________\n"
          ]
        }
      ]
    },
    {
      "cell_type": "code",
      "source": [
        "model6.summary()"
      ],
      "metadata": {
        "colab": {
          "base_uri": "https://localhost:8080/"
        },
        "id": "OkE5t2Y_VRAw",
        "outputId": "8c4f8f9b-9b5d-4872-9d53-2b8bb69c94b1"
      },
      "id": "OkE5t2Y_VRAw",
      "execution_count": 75,
      "outputs": [
        {
          "output_type": "stream",
          "name": "stdout",
          "text": [
            "Model: \"sequential_5\"\n",
            "_________________________________________________________________\n",
            " Layer (type)                Output Shape              Param #   \n",
            "=================================================================\n",
            " conv2d_9 (Conv2D)           (None, 26, 26, 32)        320       \n",
            "                                                                 \n",
            " max_pooling2d_9 (MaxPooling  (None, 13, 13, 32)       0         \n",
            " 2D)                                                             \n",
            "                                                                 \n",
            " conv2d_10 (Conv2D)          (None, 11, 11, 128)       36992     \n",
            "                                                                 \n",
            " max_pooling2d_10 (MaxPoolin  (None, 5, 5, 128)        0         \n",
            " g2D)                                                            \n",
            "                                                                 \n",
            " flatten_5 (Flatten)         (None, 3200)              0         \n",
            "                                                                 \n",
            " dense_14 (Dense)            (None, 750)               2400750   \n",
            "                                                                 \n",
            " dense_15 (Dense)            (None, 256)               192256    \n",
            "                                                                 \n",
            " dropout_5 (Dropout)         (None, 256)               0         \n",
            "                                                                 \n",
            " dense_16 (Dense)            (None, 25)                6425      \n",
            "                                                                 \n",
            "=================================================================\n",
            "Total params: 2,636,743\n",
            "Trainable params: 2,636,743\n",
            "Non-trainable params: 0\n",
            "_________________________________________________________________\n"
          ]
        }
      ]
    },
    {
      "cell_type": "code",
      "source": [
        "def pred_conv(y_pred):\n",
        "  pred = np.array([])\n",
        "  for i in y_pred:\n",
        "    pred = np.append(pred, i.argmax())\n",
        "  return pred.astype(\"int32\")"
      ],
      "metadata": {
        "id": "bWP61OCcbUeA"
      },
      "id": "bWP61OCcbUeA",
      "execution_count": 155,
      "outputs": []
    },
    {
      "cell_type": "code",
      "source": [
        "y_pred2 = pred_conv(model2.predict(X_test_norm))\n",
        "y_pred5 = pred_conv(model5.predict(X_test_norm))\n",
        "y_pred6 = pred_conv(model6.predict(X_test_norm))"
      ],
      "metadata": {
        "colab": {
          "base_uri": "https://localhost:8080/"
        },
        "id": "74Cc456kVXwO",
        "outputId": "f55e13ad-0617-4f37-8c45-6e96946a1320"
      },
      "id": "74Cc456kVXwO",
      "execution_count": 172,
      "outputs": [
        {
          "output_type": "stream",
          "name": "stdout",
          "text": [
            "225/225 [==============================] - 0s 2ms/step\n",
            "225/225 [==============================] - 0s 2ms/step\n",
            "225/225 [==============================] - 0s 2ms/step\n"
          ]
        }
      ]
    },
    {
      "cell_type": "code",
      "source": [
        "y_pred_mat = np.array([y_pred2, y_pred5, y_pred6])"
      ],
      "metadata": {
        "id": "8wt6-qYjX7LE"
      },
      "id": "8wt6-qYjX7LE",
      "execution_count": 173,
      "outputs": []
    },
    {
      "cell_type": "code",
      "source": [
        "y_pred_mat.shape"
      ],
      "metadata": {
        "colab": {
          "base_uri": "https://localhost:8080/"
        },
        "id": "2XVRj579blE-",
        "outputId": "12bdb80b-33a5-442a-842d-19b524c3791a"
      },
      "id": "2XVRj579blE-",
      "execution_count": 174,
      "outputs": [
        {
          "output_type": "execute_result",
          "data": {
            "text/plain": [
              "(3, 7172)"
            ]
          },
          "metadata": {},
          "execution_count": 174
        }
      ]
    },
    {
      "cell_type": "code",
      "source": [
        "y_pred_mat"
      ],
      "metadata": {
        "colab": {
          "base_uri": "https://localhost:8080/"
        },
        "id": "ih9x9QWEcAvv",
        "outputId": "60408dca-432d-46c0-c29d-0addbcc07be0"
      },
      "id": "ih9x9QWEcAvv",
      "execution_count": 175,
      "outputs": [
        {
          "output_type": "execute_result",
          "data": {
            "text/plain": [
              "array([[ 6,  5, 10, ...,  2,  1,  2],\n",
              "       [ 6,  5, 10, ...,  2,  4,  2],\n",
              "       [ 6,  5, 10, ...,  2,  1,  2]], dtype=int32)"
            ]
          },
          "metadata": {},
          "execution_count": 175
        }
      ]
    },
    {
      "cell_type": "code",
      "source": [
        "ensemble_pred = np.array([])\n",
        "for i in y_pred_mat.T:\n",
        "  ensemble_pred = np.append(ensemble_pred, np.bincount(i).argmax())"
      ],
      "metadata": {
        "id": "zlKu3IDbWFNu"
      },
      "id": "zlKu3IDbWFNu",
      "execution_count": 176,
      "outputs": []
    },
    {
      "cell_type": "code",
      "source": [
        "ensemble_pred = ensemble_pred.astype(\"int32\")"
      ],
      "metadata": {
        "id": "ZmB8Gz1lb2hP"
      },
      "id": "ZmB8Gz1lb2hP",
      "execution_count": 177,
      "outputs": []
    },
    {
      "cell_type": "code",
      "source": [
        "from sklearn.metrics import precision_score, recall_score, accuracy_score"
      ],
      "metadata": {
        "id": "aFFkrzVdcHvq"
      },
      "id": "aFFkrzVdcHvq",
      "execution_count": 178,
      "outputs": []
    },
    {
      "cell_type": "code",
      "source": [
        "accuracy_score(y_test, ensemble_pred)"
      ],
      "metadata": {
        "colab": {
          "base_uri": "https://localhost:8080/"
        },
        "id": "nRm6Of9-cv8x",
        "outputId": "5f788f48-838b-47c5-ec43-6f429def58d5"
      },
      "id": "nRm6Of9-cv8x",
      "execution_count": 179,
      "outputs": [
        {
          "output_type": "execute_result",
          "data": {
            "text/plain": [
              "0.7704963747908533"
            ]
          },
          "metadata": {},
          "execution_count": 179
        }
      ]
    },
    {
      "cell_type": "code",
      "source": [
        "accuracy_score(y_test, y_pred2)"
      ],
      "metadata": {
        "colab": {
          "base_uri": "https://localhost:8080/"
        },
        "id": "nLn9N9F9czSn",
        "outputId": "080ea209-9b31-49ba-8adb-daeb953e653a"
      },
      "id": "nLn9N9F9czSn",
      "execution_count": 180,
      "outputs": [
        {
          "output_type": "execute_result",
          "data": {
            "text/plain": [
              "0.743446737311768"
            ]
          },
          "metadata": {},
          "execution_count": 180
        }
      ]
    },
    {
      "cell_type": "code",
      "source": [
        "accuracy_score(y_test, y_pred5)"
      ],
      "metadata": {
        "colab": {
          "base_uri": "https://localhost:8080/"
        },
        "id": "QwSNSPY7c9Kx",
        "outputId": "a6b9ef5a-7644-4d30-d9dd-c153416bbf8d"
      },
      "id": "QwSNSPY7c9Kx",
      "execution_count": 181,
      "outputs": [
        {
          "output_type": "execute_result",
          "data": {
            "text/plain": [
              "0.8360290016731734"
            ]
          },
          "metadata": {},
          "execution_count": 181
        }
      ]
    },
    {
      "cell_type": "code",
      "source": [
        "accuracy_score(y_test, y_pred6)"
      ],
      "metadata": {
        "colab": {
          "base_uri": "https://localhost:8080/"
        },
        "id": "Z46Jm5I3dCkn",
        "outputId": "3bb7631d-cc0b-4230-d79b-20002e807d4a"
      },
      "id": "Z46Jm5I3dCkn",
      "execution_count": 182,
      "outputs": [
        {
          "output_type": "execute_result",
          "data": {
            "text/plain": [
              "0.7566926938092582"
            ]
          },
          "metadata": {},
          "execution_count": 182
        }
      ]
    },
    {
      "cell_type": "code",
      "source": [
        "precision_e = precision_score(y_test, ensemble_pred, average=None)\n",
        "plt.bar(target_values, precision_e)\n",
        "precision_e.mean()"
      ],
      "metadata": {
        "colab": {
          "base_uri": "https://localhost:8080/",
          "height": 282
        },
        "id": "dOtnUY8KdFPL",
        "outputId": "ca44882c-4add-4b40-e3ee-806f9a4f832b"
      },
      "id": "dOtnUY8KdFPL",
      "execution_count": 189,
      "outputs": [
        {
          "output_type": "execute_result",
          "data": {
            "text/plain": [
              "0.7850194489228207"
            ]
          },
          "metadata": {},
          "execution_count": 189
        },
        {
          "output_type": "display_data",
          "data": {
            "text/plain": [
              "<Figure size 432x288 with 1 Axes>"
            ],
            "image/png": "[encoded data removed]"
          },
          "metadata": {
            "needs_background": "light"
          }
        }
      ]
    },
    {
      "cell_type": "code",
      "source": [
        "precision_2 = precision_score(y_test, y_pred2, average=None)\n",
        "plt.bar(target_values, precision_2)\n",
        "precision_2.mean()"
      ],
      "metadata": {
        "colab": {
          "base_uri": "https://localhost:8080/",
          "height": 284
        },
        "id": "kttwfzSCdXNj",
        "outputId": "7d6bc15e-bb91-4191-c287-e84a57a0d950"
      },
      "id": "kttwfzSCdXNj",
      "execution_count": 190,
      "outputs": [
        {
          "output_type": "execute_result",
          "data": {
            "text/plain": [
              "0.7536377728972911"
            ]
          },
          "metadata": {},
          "execution_count": 190
        },
        {
          "output_type": "display_data",
          "data": {
            "text/plain": [
              "<Figure size 432x288 with 1 Axes>"
            ],
            "image/png": "[encoded data removed]"
          },
          "metadata": {
            "needs_background": "light"
          }
        }
      ]
    },
    {
      "cell_type": "code",
      "source": [
        "precision_5 = precision_score(y_test, y_pred5, average=None)\n",
        "plt.bar(target_values, precision_5)\n",
        "precision_5.mean()"
      ],
      "metadata": {
        "colab": {
          "base_uri": "https://localhost:8080/",
          "height": 282
        },
        "id": "GiF-xXnid-wN",
        "outputId": "38db2521-7baa-4c89-8d2a-42807d169bfd"
      },
      "id": "GiF-xXnid-wN",
      "execution_count": 192,
      "outputs": [
        {
          "output_type": "execute_result",
          "data": {
            "text/plain": [
              "0.8307196203135768"
            ]
          },
          "metadata": {},
          "execution_count": 192
        },
        {
          "output_type": "display_data",
          "data": {
            "text/plain": [
              "<Figure size 432x288 with 1 Axes>"
            ],
            "image/png": "[encoded data removed]"
          },
          "metadata": {
            "needs_background": "light"
          }
        }
      ]
    },
    {
      "cell_type": "code",
      "source": [
        "precision_6 = precision_score(y_test, y_pred6, average=None)\n",
        "plt.bar(target_values, precision_6)\n",
        "precision_6.mean()"
      ],
      "metadata": {
        "colab": {
          "base_uri": "https://localhost:8080/",
          "height": 283
        },
        "id": "-7FzgKNSeCVr",
        "outputId": "76e64a15-f900-4a9b-be07-c4c6c9e01282"
      },
      "id": "-7FzgKNSeCVr",
      "execution_count": 193,
      "outputs": [
        {
          "output_type": "execute_result",
          "data": {
            "text/plain": [
              "0.7682221881011625"
            ]
          },
          "metadata": {},
          "execution_count": 193
        },
        {
          "output_type": "display_data",
          "data": {
            "text/plain": [
              "<Figure size 432x288 with 1 Axes>"
            ],
            "image/png": "[encoded data removed]"
          },
          "metadata": {
            "needs_background": "light"
          }
        }
      ]
    },
    {
      "cell_type": "code",
      "source": [
        "recall_e = recall_score(y_test, ensemble_pred, average=None)\n",
        "plt.bar(target_values, recall_e)\n",
        "recall_e.mean()"
      ],
      "metadata": {
        "colab": {
          "base_uri": "https://localhost:8080/",
          "height": 282
        },
        "id": "r5mAgHY6eKUy",
        "outputId": "8ff3036c-9338-439c-fa4e-e08ffbe54277"
      },
      "id": "r5mAgHY6eKUy",
      "execution_count": 194,
      "outputs": [
        {
          "output_type": "execute_result",
          "data": {
            "text/plain": [
              "0.7532556067268507"
            ]
          },
          "metadata": {},
          "execution_count": 194
        },
        {
          "output_type": "display_data",
          "data": {
            "text/plain": [
              "<Figure size 432x288 with 1 Axes>"
            ],
            "image/png": "[encoded data removed]"
          },
          "metadata": {
            "needs_background": "light"
          }
        }
      ]
    },
    {
      "cell_type": "code",
      "source": [
        "recall_2 = recall_score(y_test, y_pred2, average=None)\n",
        "plt.bar(target_values, recall_2)\n",
        "recall_2.mean()"
      ],
      "metadata": {
        "colab": {
          "base_uri": "https://localhost:8080/",
          "height": 282
        },
        "id": "mURcRXo2eRHZ",
        "outputId": "274f31a0-eef3-4b62-80b4-3c841f9b1f55"
      },
      "id": "mURcRXo2eRHZ",
      "execution_count": 195,
      "outputs": [
        {
          "output_type": "execute_result",
          "data": {
            "text/plain": [
              "0.7256488990658688"
            ]
          },
          "metadata": {},
          "execution_count": 195
        },
        {
          "output_type": "display_data",
          "data": {
            "text/plain": [
              "<Figure size 432x288 with 1 Axes>"
            ],
            "image/png": "[encoded data removed]"
          },
          "metadata": {
            "needs_background": "light"
          }
        }
      ]
    },
    {
      "cell_type": "code",
      "source": [
        "recall_5 = recall_score(y_test, y_pred5, average=None)\n",
        "plt.bar(target_values, recall_5)\n",
        "recall_5.mean()"
      ],
      "metadata": {
        "id": "MdeLqX8feXzM",
        "outputId": "8384c0da-dd52-458b-8362-c4a18cd3fb73",
        "colab": {
          "base_uri": "https://localhost:8080/",
          "height": 282
        }
      },
      "id": "MdeLqX8feXzM",
      "execution_count": 196,
      "outputs": [
        {
          "output_type": "execute_result",
          "data": {
            "text/plain": [
              "0.820093671069575"
            ]
          },
          "metadata": {},
          "execution_count": 196
        },
        {
          "output_type": "display_data",
          "data": {
            "text/plain": [
              "<Figure size 432x288 with 1 Axes>"
            ],
            "image/png": "[encoded data removed]"
          },
          "metadata": {
            "needs_background": "light"
          }
        }
      ]
    },
    {
      "cell_type": "code",
      "source": [
        "recall_6 = recall_score(y_test, y_pred6, average=None)\n",
        "plt.bar(target_values, recall_6)\n",
        "recall_6.mean()"
      ],
      "metadata": {
        "id": "x3NPCotrefHt",
        "outputId": "2c39b5e1-114a-42c2-bc68-0fd42d8f37dd",
        "colab": {
          "base_uri": "https://localhost:8080/",
          "height": 282
        }
      },
      "id": "x3NPCotrefHt",
      "execution_count": 197,
      "outputs": [
        {
          "output_type": "execute_result",
          "data": {
            "text/plain": [
              "0.7376122038147727"
            ]
          },
          "metadata": {},
          "execution_count": 197
        },
        {
          "output_type": "display_data",
          "data": {
            "text/plain": [
              "<Figure size 432x288 with 1 Axes>"
            ],
            "image/png": "[encoded data removed]"
          },
          "metadata": {
            "needs_background": "light"
          }
        }
      ]
    },
    {
      "cell_type": "code",
      "source": [],
      "metadata": {
        "id": "CzZyRfDPekFv"
      },
      "id": "CzZyRfDPekFv",
      "execution_count": null,
      "outputs": []
    }
  ],
  "metadata": {
    "kernelspec": {
      "display_name": "Python 3 (ipykernel)",
      "language": "python",
      "name": "python3"
    },
    "language_info": {
      "codemirror_mode": {
        "name": "ipython",
        "version": 3
      },
      "file_extension": ".py",
      "mimetype": "text/x-python",
      "name": "python",
      "nbconvert_exporter": "python",
      "pygments_lexer": "ipython3",
      "version": "3.9.12"
    },
    "colab": {
      "provenance": [],
      "collapsed_sections": [
        "b51e809c",
        "f4502816"
      ],
      "machine_shape": "hm"
    },
    "accelerator": "GPU",
    "gpuClass": "premium"
  },
  "nbformat": 4,
  "nbformat_minor": 5
}